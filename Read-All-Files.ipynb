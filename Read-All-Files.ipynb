{
 "cells": [
  {
   "cell_type": "code",
   "execution_count": 1,
   "metadata": {},
   "outputs": [],
   "source": [
    "# read a single file into a string"
   ]
  },
  {
   "cell_type": "code",
   "execution_count": 13,
   "metadata": {},
   "outputs": [],
   "source": [
    "with open('mix20_rand700_tokens_0211/tokens/pos/cv082_tok-15467.txt', 'r') as file:\n",
    "    pos_review = file.read()"
   ]
  },
  {
   "cell_type": "code",
   "execution_count": 3,
   "metadata": {},
   "outputs": [],
   "source": [
    "#pos_review"
   ]
  },
  {
   "cell_type": "code",
   "execution_count": 14,
   "metadata": {},
   "outputs": [],
   "source": [
    "with open('mix20_rand700_tokens_0211/tokens/neg/cv505_tok-17424.txt', 'r', encoding='latin1') as file:\n",
    "    neg_reviews = file.read()"
   ]
  },
  {
   "cell_type": "code",
   "execution_count": 5,
   "metadata": {},
   "outputs": [
    {
     "data": {
      "text/plain": [
       "\"it is movies like these that make a jaded movie viewer thankful for the invention of the timex indiglo watch . based on the late 1960's television show by the same name , the mod squad tells the tale of three reformed criminals under the employ of the police to go undercover . however , things go wrong as evidence gets stolen and they are immediately under suspicion . of course , the ads make it seem like so much more . quick cuts , cool music , claire dane's nice hair and cute outfits , car chases , stuff blowing up , and the like . sounds like a cool movie , does it not ? after the first fifteen minutes , it quickly becomes apparent that it is not . the mod squad is certainly a slick looking production , complete with nice hair and costumes , but that simply isn't enough . the film is best described as a cross between an hour-long cop show and a music video , both stretched out into the span of an hour and a half . and with it comes every single cliché . it doesn't really matter that the film is based on a television show , as most of the plot elements have been recycled from everything we've already seen . the characters and acting is nothing spectacular , sometimes even bordering on wooden . claire danes and omar epps deliver their lines as if they are bored , which really transfers onto the audience . the only one to escape relatively unscathed is giovanni ribisi , who plays the resident crazy man , ultimately being the only thing worth watching . unfortunately , even he's not enough to save this convoluted mess , as all the characters don't do much apart from occupying screen time . with the young cast , cool clothes , nice hair , and hip soundtrack , it appears that the film is geared towards the teenage mindset . despite an american 'r' rating ( which the content does not justify ) , the film is way too juvenile for the older mindset . information on the characters is literally spoon-fed to the audience ( would it be that hard to show us instead of telling us ? ) , dialogue is poorly written , and the plot is extremely predictable . the way the film progresses , you likely won't even care if the heroes are in any jeopardy , because you'll know they aren't . basing the show on a 1960's television show that nobody remembers is of questionable wisdom , especially when one considers the target audience and the fact that the number of memorable films based on television shows can be counted on one hand ( even one that's missing a finger or two ) . the number of times that i checked my watch ( six ) is a clear indication that this film is not one of them . it is clear that the film is nothing more than an attempt to cash in on the teenage spending dollar , judging from the rash of really awful teen-flicks that we've been seeing as of late . avoid this film at all costs . \\n\""
      ]
     },
     "execution_count": 5,
     "metadata": {},
     "output_type": "execute_result"
    }
   ],
   "source": [
    "neg_reviews"
   ]
  },
  {
   "cell_type": "code",
   "execution_count": 8,
   "metadata": {},
   "outputs": [],
   "source": [
    "import glob"
   ]
  },
  {
   "cell_type": "code",
   "execution_count": 9,
   "metadata": {},
   "outputs": [
    {
     "name": "stdout",
     "output_type": "stream",
     "text": [
      "mix20_rand700_tokens_0211/tokens/pos/cv381_tok-12136.txt\n",
      "mix20_rand700_tokens_0211/tokens/pos/cv000_tok-11609.txt\n",
      "mix20_rand700_tokens_0211/tokens/pos/cv604_tok-13401.txt\n",
      "mix20_rand700_tokens_0211/tokens/pos/cv001_tok-10180.txt\n",
      "mix20_rand700_tokens_0211/tokens/pos/cv002_tok-12931.txt\n",
      "mix20_rand700_tokens_0211/tokens/pos/cv003_tok-8338.txt\n",
      "mix20_rand700_tokens_0211/tokens/pos/cv004_tok-29856.txt\n",
      "mix20_rand700_tokens_0211/tokens/pos/cv005_tok-26110.txt\n",
      "mix20_rand700_tokens_0211/tokens/pos/cv006_tok-28887.txt\n",
      "mix20_rand700_tokens_0211/tokens/pos/cv007_tok-14417.txt\n"
     ]
    }
   ],
   "source": [
    "for file in glob.glob('mix20_rand700_tokens_0211/tokens/pos/*.txt')[:10]:\n",
    "    print(file)"
   ]
  },
  {
   "cell_type": "code",
   "execution_count": 10,
   "metadata": {},
   "outputs": [],
   "source": [
    "reviews = []\n",
    "for file in glob.glob('mix20_rand700_tokens_0211/tokens/pos/*.txt')[:10]:\n",
    "    with open(file, 'r', encoding='latin1') as f:\n",
    "        pos_review = f.read()\n",
    "        reviews.append((pos_review, 1))\n",
    "        \n",
    "for file in glob.glob('mix20_rand700_tokens_0211/tokens/neg/*.txt')[:10]:\n",
    "    with open(file, 'r', encoding='latin1') as f:\n",
    "        neg_review = f.read()\n",
    "        reviews.append((neg_review, 0))    "
   ]
  },
  {
   "cell_type": "code",
   "execution_count": 11,
   "metadata": {},
   "outputs": [
    {
     "data": {
      "text/plain": [
       "20"
      ]
     },
     "execution_count": 11,
     "metadata": {},
     "output_type": "execute_result"
    }
   ],
   "source": [
    "len(reviews)"
   ]
  },
  {
   "cell_type": "code",
   "execution_count": 12,
   "metadata": {},
   "outputs": [],
   "source": [
    "#reviews[-1]"
   ]
  },
  {
   "cell_type": "code",
   "execution_count": 13,
   "metadata": {},
   "outputs": [],
   "source": [
    "import pandas as pd"
   ]
  },
  {
   "cell_type": "code",
   "execution_count": 14,
   "metadata": {},
   "outputs": [],
   "source": [
    "df = pd.DataFrame(reviews, columns=['review_text', 'review_val'])"
   ]
  },
  {
   "cell_type": "code",
   "execution_count": 15,
   "metadata": {},
   "outputs": [
    {
     "data": {
      "text/html": [
       "<div>\n",
       "<style scoped>\n",
       "    .dataframe tbody tr th:only-of-type {\n",
       "        vertical-align: middle;\n",
       "    }\n",
       "\n",
       "    .dataframe tbody tr th {\n",
       "        vertical-align: top;\n",
       "    }\n",
       "\n",
       "    .dataframe thead th {\n",
       "        text-align: right;\n",
       "    }\n",
       "</style>\n",
       "<table border=\"1\" class=\"dataframe\">\n",
       "  <thead>\n",
       "    <tr style=\"text-align: right;\">\n",
       "      <th></th>\n",
       "      <th>review_text</th>\n",
       "      <th>review_val</th>\n",
       "    </tr>\n",
       "  </thead>\n",
       "  <tbody>\n",
       "    <tr>\n",
       "      <th>0</th>\n",
       "      <td>starring : jay mohr , hallie kate eisenberg , ...</td>\n",
       "      <td>1</td>\n",
       "    </tr>\n",
       "    <tr>\n",
       "      <th>1</th>\n",
       "      <td>lancelot du lac ( lancelot du lac ) ( france ,...</td>\n",
       "      <td>1</td>\n",
       "    </tr>\n",
       "    <tr>\n",
       "      <th>2</th>\n",
       "      <td>armageddon ( 1998 )  starring bruce willis , b...</td>\n",
       "      <td>1</td>\n",
       "    </tr>\n",
       "    <tr>\n",
       "      <th>3</th>\n",
       "      <td>director : brian de palma writer : david koepp...</td>\n",
       "      <td>1</td>\n",
       "    </tr>\n",
       "    <tr>\n",
       "      <th>4</th>\n",
       "      <td>six days , seven nights reviewed by jamie peck...</td>\n",
       "      <td>1</td>\n",
       "    </tr>\n",
       "    <tr>\n",
       "      <th>5</th>\n",
       "      <td>cast : mel gibson ( jerry fletcher ) , julia r...</td>\n",
       "      <td>1</td>\n",
       "    </tr>\n",
       "    <tr>\n",
       "      <th>6</th>\n",
       "      <td>all great things come to an end , and the dot-...</td>\n",
       "      <td>1</td>\n",
       "    </tr>\n",
       "    <tr>\n",
       "      <th>7</th>\n",
       "      <td>filmcritic . com presents a review from staff ...</td>\n",
       "      <td>1</td>\n",
       "    </tr>\n",
       "    <tr>\n",
       "      <th>8</th>\n",
       "      <td>moulin rouge ( 2001 ) nicole kidman , ewan mcg...</td>\n",
       "      <td>1</td>\n",
       "    </tr>\n",
       "    <tr>\n",
       "      <th>9</th>\n",
       "      <td>i seem to be in a minority of one , but chris ...</td>\n",
       "      <td>1</td>\n",
       "    </tr>\n",
       "    <tr>\n",
       "      <th>10</th>\n",
       "      <td>united states , 1998 u . s . release date : 3/...</td>\n",
       "      <td>0</td>\n",
       "    </tr>\n",
       "    <tr>\n",
       "      <th>11</th>\n",
       "      <td>tristar / 1 : 30 / 1997 / r ( language , viole...</td>\n",
       "      <td>0</td>\n",
       "    </tr>\n",
       "    <tr>\n",
       "      <th>12</th>\n",
       "      <td>arlington road 1/4 . directed by mark pellingt...</td>\n",
       "      <td>0</td>\n",
       "    </tr>\n",
       "    <tr>\n",
       "      <th>13</th>\n",
       "      <td>the brady bunch movie is less a motion picture...</td>\n",
       "      <td>0</td>\n",
       "    </tr>\n",
       "    <tr>\n",
       "      <th>14</th>\n",
       "      <td>janeane garofalo in a romantic comedy -- it wa...</td>\n",
       "      <td>0</td>\n",
       "    </tr>\n",
       "    <tr>\n",
       "      <th>15</th>\n",
       "      <td>i'm going to keep this plot summary brief , so...</td>\n",
       "      <td>0</td>\n",
       "    </tr>\n",
       "    <tr>\n",
       "      <th>16</th>\n",
       "      <td>review by lars lindahl ( larsattacks@mail . co...</td>\n",
       "      <td>0</td>\n",
       "    </tr>\n",
       "    <tr>\n",
       "      <th>17</th>\n",
       "      <td>after enduring mariah carey's film debut , gli...</td>\n",
       "      <td>0</td>\n",
       "    </tr>\n",
       "    <tr>\n",
       "      <th>18</th>\n",
       "      <td>here's a rarity : a children's film that attem...</td>\n",
       "      <td>0</td>\n",
       "    </tr>\n",
       "    <tr>\n",
       "      <th>19</th>\n",
       "      <td>starring : tommy lee jones ( sam gerard ) , we...</td>\n",
       "      <td>0</td>\n",
       "    </tr>\n",
       "  </tbody>\n",
       "</table>\n",
       "</div>"
      ],
      "text/plain": [
       "                                          review_text  review_val\n",
       "0   starring : jay mohr , hallie kate eisenberg , ...           1\n",
       "1   lancelot du lac ( lancelot du lac ) ( france ,...           1\n",
       "2   armageddon ( 1998 )  starring bruce willis , b...           1\n",
       "3   director : brian de palma writer : david koepp...           1\n",
       "4   six days , seven nights reviewed by jamie peck...           1\n",
       "5   cast : mel gibson ( jerry fletcher ) , julia r...           1\n",
       "6   all great things come to an end , and the dot-...           1\n",
       "7   filmcritic . com presents a review from staff ...           1\n",
       "8   moulin rouge ( 2001 ) nicole kidman , ewan mcg...           1\n",
       "9   i seem to be in a minority of one , but chris ...           1\n",
       "10  united states , 1998 u . s . release date : 3/...           0\n",
       "11  tristar / 1 : 30 / 1997 / r ( language , viole...           0\n",
       "12  arlington road 1/4 . directed by mark pellingt...           0\n",
       "13  the brady bunch movie is less a motion picture...           0\n",
       "14  janeane garofalo in a romantic comedy -- it wa...           0\n",
       "15  i'm going to keep this plot summary brief , so...           0\n",
       "16  review by lars lindahl ( larsattacks@mail . co...           0\n",
       "17  after enduring mariah carey's film debut , gli...           0\n",
       "18  here's a rarity : a children's film that attem...           0\n",
       "19  starring : tommy lee jones ( sam gerard ) , we...           0"
      ]
     },
     "execution_count": 15,
     "metadata": {},
     "output_type": "execute_result"
    }
   ],
   "source": [
    "df"
   ]
  },
  {
   "cell_type": "code",
   "execution_count": null,
   "metadata": {},
   "outputs": [],
   "source": []
  },
  {
   "cell_type": "code",
   "execution_count": null,
   "metadata": {},
   "outputs": [],
   "source": []
  }
 ],
 "metadata": {
  "kernelspec": {
   "display_name": "Python (sklearn_env)",
   "language": "python",
   "name": "sklearn_env"
  },
  "language_info": {
   "codemirror_mode": {
    "name": "ipython",
    "version": 3
   },
   "file_extension": ".py",
   "mimetype": "text/x-python",
   "name": "python",
   "nbconvert_exporter": "python",
   "pygments_lexer": "ipython3",
   "version": "3.7.11"
  }
 },
 "nbformat": 4,
 "nbformat_minor": 4
}
