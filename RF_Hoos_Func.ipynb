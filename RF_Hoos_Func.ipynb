{
 "cells": [
  {
   "cell_type": "code",
   "execution_count": null,
   "metadata": {},
   "outputs": [],
   "source": [
    "import pandas as pd\n",
    "from sklearn.ensemble import RandomForestClassifier\n",
    "from sklearn.model_selection import cross_val_score\n",
    "from sklearn.model_selection import RandomizedSearchCV\n",
    "from pprint import pprint\n",
    "from sklearn.ensemble import ExtraTreesRegressor\n",
    "import numpy as np\n",
    "from sklearn.metrics import accuracy_score, confusion_matrix, classification_report\n",
    "from sklearn.metrics import accuracy_score, confusion_matrix, classification_report\n",
    "import matplotlib.pyplot as plt\n",
    "from sklearn.metrics import confusion_matrix, ConfusionMatrixDisplay\n",
    "from dtreeviz.trees import dtreeviz \n",
    "import seaborn as sns\n",
    "\n",
    "# If you're working in Jupyter Notebook, include the following so that plots will display:\n",
    "%matplotlib inline"
   ]
  },
  {
   "cell_type": "code",
   "execution_count": null,
   "metadata": {},
   "outputs": [],
   "source": [
    "df = pd.read_csv('longitudinal_bl3y_final.csv')\n",
    "pd.set_option('display.max_rows', None)\n",
    "pd.set_option('display.max_columns', None)\n",
    "\n",
    "df2 = pd.read_csv('Subjectdata_PCscores.csv')"
   ]
  },
  {
   "cell_type": "code",
   "execution_count": null,
   "metadata": {},
   "outputs": [],
   "source": [
    "df.head()\n",
    "df2.head()"
   ]
  },
  {
   "cell_type": "code",
   "execution_count": null,
   "metadata": {},
   "outputs": [],
   "source": [
    "df.isna().sum()\n",
    "df2.isna().sum()"
   ]
  },
  {
   "cell_type": "code",
   "execution_count": null,
   "metadata": {},
   "outputs": [],
   "source": [
    "df3 = pd.merge(df, df2)\n",
    "df3\n",
    "df3.describe()"
   ]
  },
  {
   "cell_type": "code",
   "execution_count": null,
   "metadata": {},
   "outputs": [],
   "source": [
    "list(df3.columns)"
   ]
  },
  {
   "cell_type": "code",
   "execution_count": null,
   "metadata": {},
   "outputs": [],
   "source": [
    "#df.dropna(inplace=True)\n",
    "#to get rid of some columns w/ NA df = df.dropna(subset=['colA', 'colC']) \n",
    "df.describe()"
   ]
  },
  {
   "cell_type": "code",
   "execution_count": null,
   "metadata": {},
   "outputs": [],
   "source": [
    "###### DESCRIPTIVE STATS#######\n",
    "#DEMOGRAPHICS<> KL Score\n",
    "# Use seaborn for pair plots\n",
    "sns.set(style=\"ticks\", color_codes=True);\n",
    "\n",
    "# Will only use six variables for plotting pairs\n",
    "reduced_features = df[['age', 'bmi_baseline', 'bmi_3yr', 'kl_score' ]]\n",
    "\n",
    "palette = sns.xkcd_palette(['dark blue', 'dark green', 'gold', 'orange'])\n",
    "\n",
    "# Make the pair plot with a some aesthetic changes\n",
    "sns.pairplot(reduced_features,hue = 'kl_score', palette = palette, diag_kind = 'kde', plot_kws=dict(alpha = 0.7),\n",
    "                   diag_kws=dict(shade=True)); "
   ]
  },
  {
   "cell_type": "code",
   "execution_count": null,
   "metadata": {},
   "outputs": [],
   "source": [
    "#DEMOGRAPHICS <> SHOAMRI\n",
    "# Will only use six variables for plotting pairs\n",
    "reduced_features = df[['age', 'bmi_baseline', 'bmi_3yr', 'shoamri_car_score' ]]\n",
    "\n",
    "# Make the pair plot with a some aesthetic changes\n",
    "sns.pairplot(reduced_features,hue = 'shoamri_car_score', diag_kind = 'kde', plot_kws=dict(alpha = 0.7),\n",
    "                   diag_kws=dict(shade=True)); \n"
   ]
  },
  {
   "cell_type": "code",
   "execution_count": null,
   "metadata": {},
   "outputs": [],
   "source": [
    "#functional tests <> HOOS\n",
    "# Use seaborn for pair plots\n",
    "sns.set(style=\"ticks\", color_codes=True);\n",
    "\n",
    "# Will only use six variables for plotting pairs\n",
    "reduced_features = df[['age', 'bmi_baseline', 'hoos_pain_score_baseline', 'hoos_pain_score_3yr',\n",
    " 'char_rise_baseline',\n",
    " 'm_walk_test_baseline',\n",
    " 'stair_climbing_baseline',\n",
    " 'side_plank_baseline',\n",
    " 'char_rise_3yr',\n",
    " 'm_walk_test_3yr',\n",
    " 'stair_climbing_3yr',\n",
    " 'side_plank_3yr',\n",
    "'kl_score']]\n",
    "                       \n",
    "\n",
    "# Make the pair plot with a some aesthetic changes\n",
    "sns.pairplot(reduced_features,hue = 'kl_score', palette = palette, diag_kind = 'kde', plot_kws=dict(alpha = 0.7),\n",
    "                   diag_kws=dict(shade=True)); "
   ]
  },
  {
   "cell_type": "code",
   "execution_count": null,
   "metadata": {},
   "outputs": [],
   "source": [
    "#cartilage scores <> HOOS\n",
    "# Use seaborn for pair plots\n",
    "sns.set(style=\"ticks\", color_codes=True);\n",
    "\n",
    "# Will only use six variables for plotting pairs\n",
    "reduced_features = df[['age', 'bmi_baseline', 'hoos_pain_score_baseline', 'hoos_pain_score_3yr',\n",
    " 't1rho_mean_fem_whole_cartilage_baseline',\n",
    " 't2_mean_fem_whole_cartilage_baseline',\n",
    " 't1rho_mean_ace_whole_cartilage_baseline',\n",
    " 't2_mean_ace_whole_cartilage_baseline',\n",
    " 't1rho_mean_fem_whole_cartilage_3yr',\n",
    " 't2_mean_fem_whole_cartilage_3yr',\n",
    " 't1rho_mean_ace_whole_cartilage_3yr',\n",
    " 't2_mean_ace_whole_cartilage_3yr', 'kl_score']]\n",
    "                       \n",
    "\n",
    "# Make the pair plot with a some aesthetic changes\n",
    "sns.pairplot(reduced_features,hue = 'kl_score', palette = palette, diag_kind = 'kde', plot_kws=dict(alpha = 0.7),\n",
    "                   diag_kws=dict(shade=True)); "
   ]
  },
  {
   "cell_type": "code",
   "execution_count": null,
   "metadata": {},
   "outputs": [],
   "source": [
    "#cartilage scores <> HOOS\n",
    "# Use seaborn for pair plots\n",
    "sns.set(style=\"ticks\", color_codes=True);\n",
    "\n",
    "# Will only use six variables for plotting pairs\n",
    "reduced_features = df[['age', 'bmi_baseline', 'hoos_pain_score_baseline', 'hoos_pain_score_3yr',\n",
    "'st_hip_flex_norm_baseline',\n",
    " 'st_hip_ext_norm_baseline',\n",
    " 'st_hip_abd_norm_baseline',\n",
    " 'st_hip_add_norm_baseline',\n",
    " 'st_hip_flex_norm_3yr',\n",
    " 'st_hip_ext_norm_3yr',\n",
    " 'st_hip_abd_norm_3yr',\n",
    " 'st_hip_add_norm_3yr',\n",
    "'kl_score']]\n",
    "                       \n",
    "\n",
    "# Make the pair plot with a some aesthetic changes\n",
    "sns.pairplot(reduced_features,hue = 'kl_score', palette = palette, diag_kind = 'kde', plot_kws=dict(alpha = 0.7),\n",
    "                   diag_kws=dict(shade=True)); "
   ]
  },
  {
   "cell_type": "code",
   "execution_count": null,
   "metadata": {},
   "outputs": [],
   "source": [
    "#cartilage scores <> HOOS\n",
    "# Use seaborn for pair plots\n",
    "sns.set(style=\"ticks\", color_codes=True);\n",
    "\n",
    "# Will only use six variables for plotting pairs\n",
    "reduced_features = df[['age', 'bmi_baseline', 'hoos_pain_score_baseline', 'hoos_pain_score_3yr',\n",
    "'st_hip_flex_norm_baseline',\n",
    " 'st_hip_ext_norm_baseline',\n",
    " 'st_hip_abd_norm_baseline',\n",
    " 'st_hip_add_norm_baseline',\n",
    " 'st_hip_flex_norm_contra_baseline',\n",
    " 'st_hip_ext_norm_contra_baseline',\n",
    " 'st_hip_abd_norm_contra_baseline',\n",
    " 'st_hip_add_norm_contra_baseline', 'kl_score']]\n",
    "                       \n",
    "\n",
    "# Make the pair plot with a some aesthetic changes\n",
    "sns.pairplot(reduced_features,hue = 'kl_score', palette = palette, diag_kind = 'kde', plot_kws=dict(alpha = 0.7),\n",
    "                   diag_kws=dict(shade=True)); "
   ]
  },
  {
   "cell_type": "code",
   "execution_count": null,
   "metadata": {},
   "outputs": [],
   "source": [
    "#cartilage scores <> HOOS\n",
    "# Use seaborn for pair plots\n",
    "sns.set(style=\"ticks\", color_codes=True);\n",
    "\n",
    "# Will only use six variables for plotting pairs\n",
    "reduced_features = df[['age', 'bmi_baseline', 'hoos_pain_score_baseline', 'hoos_pain_score_3yr',\n",
    "'ipaq_vigorous_met',\n",
    " 'ipaq_moderate_met',\n",
    " 'ipaq_ss_wdhrs_c',\n",
    " 'ipaq_walking_met',\n",
    " 'ipaq_categorical_score', 'kl_score']]\n",
    "                       \n",
    "\n",
    "# Make the pair plot with a some aesthetic changes\n",
    "sns.pairplot(reduced_features,hue = 'kl_score', palette = palette, diag_kind = 'kde', plot_kws=dict(alpha = 0.7),\n",
    "                   diag_kws=dict(shade=True)); "
   ]
  },
  {
   "cell_type": "code",
   "execution_count": null,
   "metadata": {},
   "outputs": [],
   "source": [
    "#cartilage scores <> HOOS\n",
    "# Use seaborn for pair plots\n",
    "sns.set(style=\"ticks\", color_codes=True);\n",
    "\n",
    "# Will only use six variables for plotting pairs\n",
    "reduced_features = df[['mhi5_score_baseline',\n",
    " 'mhi5_score_3yr',\n",
    " 'hoos_symptoms_score_baseline',\n",
    " 'hoos_adl_score_baseline',\n",
    " 'hoos_sports_score_baseline',\n",
    " 'hoos_qol_score_baseline',\n",
    " 'hoos_symptoms_score_3yr',\n",
    " 'hoos_adl_score_3yr',\n",
    " 'hoos_sports_score_3yr',\n",
    " 'hoos_qol_score_3yr',\n",
    " 'hoos_pain_score_baseline',\n",
    " 'hoos_pain_score_3yr', 'kl_score']]\n",
    "                       \n",
    "\n",
    "# Make the pair plot with a some aesthetic changes\n",
    "sns.pairplot(reduced_features,hue = 'kl_score', palette = palette, diag_kind = 'kde', plot_kws=dict(alpha = 0.7),\n",
    "                   diag_kws=dict(shade=True)); "
   ]
  },
  {
   "cell_type": "code",
   "execution_count": null,
   "metadata": {},
   "outputs": [],
   "source": [
    "######## DATA PREPARATION ########\n",
    "#HOOS\n",
    "y = df3[['hoos_symptoms_score_3yr',\n",
    " 'hoos_adl_score_3yr',\n",
    " 'hoos_sports_score_3yr',\n",
    " 'hoos_qol_score_3yr','hoos_pain_score_3yr']]"
   ]
  },
  {
   "cell_type": "code",
   "execution_count": null,
   "metadata": {},
   "outputs": [],
   "source": [
    "#cartilage\n",
    "y = df[['t1rho_mean_fem_whole_cartilage_3yr',\n",
    " 't2_mean_fem_whole_cartilage_3yr', 't1rho_mean_ace_whole_cartilage_3yr',\n",
    " 't2_mean_ace_whole_cartilage_3yr']]"
   ]
  },
  {
   "cell_type": "code",
   "execution_count": null,
   "metadata": {},
   "outputs": [],
   "source": [
    "#ALL BASELINE DATA\n",
    "df3.drop(['participant_id', 'AlphaAngle',\n",
    " 'CenterEdgeAngle',\n",
    " 'FADIR',\n",
    " 'FABER',\n",
    " 'redcap_event_name',\n",
    " 'weight_kg_3yr',\n",
    " 'bmi_3yr',\n",
    " 'mhi5_score_3yr',\n",
    " 'hoos_symptoms_score_3yr',\n",
    " 'hoos_adl_score_3yr',\n",
    " 'hoos_sports_score_3yr',\n",
    " 'hoos_qol_score_3yr',\n",
    " 'hoos_pain_score_3yr',\n",
    " 'char_rise_3yr',\n",
    " 'm_walk_test_3yr',\n",
    " 'stair_climbing_3yr',\n",
    " 'side_plank_3yr',\n",
    " 'st_hip_side_3yr',\n",
    " 't1rho_mean_fem_whole_cartilage_3yr',\n",
    " 't2_mean_fem_whole_cartilage_3yr',\n",
    " 't1rho_mean_ace_whole_cartilage_3yr',\n",
    " 't2_mean_ace_whole_cartilage_3yr',\n",
    " 'st_hip_flex_norm_3yr',\n",
    " 'st_hip_ext_norm_3yr',\n",
    " 'st_hip_abd_norm_3yr',\n",
    " 'st_hip_add_norm_3yr'], axis=1, inplace=True)"
   ]
  },
  {
   "cell_type": "code",
   "execution_count": null,
   "metadata": {},
   "outputs": [],
   "source": [
    "#BASELINE DATA minus shoamri, t1rho, t2\n",
    "df3.drop(['participant_id', 'AlphaAngle',\n",
    " 'CenterEdgeAngle',\n",
    " 'FADIR',\n",
    " 'FABER',\n",
    " 'redcap_event_name',\n",
    " 'weight_kg_3yr',\n",
    " 'bmi_3yr',\n",
    " 'mhi5_score_3yr',\n",
    " 'hoos_symptoms_score_3yr',\n",
    " 'hoos_adl_score_3yr',\n",
    " 'hoos_sports_score_3yr',\n",
    " 'hoos_qol_score_3yr',\n",
    " 'hoos_pain_score_3yr',\n",
    " 'char_rise_3yr',\n",
    " 'm_walk_test_3yr',\n",
    " 'stair_climbing_3yr',\n",
    " 'side_plank_3yr',\n",
    " 'st_hip_side_3yr',\n",
    " 't1rho_mean_fem_whole_cartilage_3yr',\n",
    " 't2_mean_fem_whole_cartilage_3yr',\n",
    " 't1rho_mean_ace_whole_cartilage_3yr',\n",
    " 't2_mean_ace_whole_cartilage_3yr',\n",
    " 'st_hip_flex_norm_3yr',\n",
    " 'st_hip_ext_norm_3yr',\n",
    " 'st_hip_abd_norm_3yr',\n",
    " 'st_hip_add_norm_3yr',\n",
    " 'shoamri_total',\n",
    " 'shoamri_bme_score',\n",
    " 'shoamri_sc_score',\n",
    " 'shoamri_lab_score',\n",
    " 'shoamri_mis_score',\n",
    " 'shoamri_car_score',\n",
    "'t1rho_mean_fem_whole_cartilage_baseline',\n",
    " 't2_mean_fem_whole_cartilage_baseline',\n",
    " 't1rho_mean_ace_whole_cartilage_baseline',\n",
    " 't2_mean_ace_whole_cartilage_baseline', \n",
    "'st_hip_side_baseline'], axis=1, inplace=True)"
   ]
  },
  {
   "cell_type": "code",
   "execution_count": null,
   "metadata": {},
   "outputs": [],
   "source": [
    "list(df3.columns)"
   ]
  },
  {
   "cell_type": "code",
   "execution_count": null,
   "metadata": {},
   "outputs": [],
   "source": [
    "######## MODEL SETUP ###########\n",
    "# Split up training and testing Sets\n",
    "from sklearn.model_selection import train_test_split\n",
    "\n",
    "train_features, test_features, train_labels, test_labels = train_test_split(df, y, \n",
    "                                                                            test_size = 0.4, random_state = 42)\n",
    "print('Training Features Shape:', train_features.shape)\n",
    "print('Training Labels Shape:', train_labels.shape)\n",
    "print('Testing Features Shape:', test_features.shape)\n",
    "print('Testing Labels Shape:', test_labels.shape)"
   ]
  },
  {
   "cell_type": "code",
   "execution_count": null,
   "metadata": {},
   "outputs": [],
   "source": [
    "print('Parameters currently in use:\\n')\n",
    "pprint(clf.get_params())"
   ]
  },
  {
   "cell_type": "code",
   "execution_count": null,
   "metadata": {},
   "outputs": [],
   "source": [
    "#Create a random grid to search for best hyperparameters\n",
    "# Number of trees in random forest\n",
    "n_estimators = [int(x) for x in np.linspace(start = 200, stop = 2000, num = 10)]\n",
    "# Number of features to consider at every split\n",
    "max_features = ['auto', 'sqrt']\n",
    "# Maximum number of levels in tree\n",
    "max_depth = [int(x) for x in np.linspace(10, 110, num = 11)]\n",
    "max_depth.append(None)\n",
    "# Minimum number of samples required to split a node\n",
    "min_samples_split = [2, 5, 10]\n",
    "# Minimum number of samples required at each leaf node\n",
    "min_samples_leaf = [1, 2, 4]\n",
    "# Method of selecting samples for training each tree\n",
    "bootstrap = [True, False]\n",
    "\n",
    "# Create the random grid\n",
    "random_grid = {'n_estimators': n_estimators,\n",
    "               'max_features': max_features,\n",
    "               'max_depth': max_depth,\n",
    "               'min_samples_split': min_samples_split,\n",
    "               'min_samples_leaf': min_samples_leaf,\n",
    "               'bootstrap': bootstrap}\n",
    "\n",
    "pprint(random_grid)"
   ]
  },
  {
   "cell_type": "code",
   "execution_count": null,
   "metadata": {},
   "outputs": [],
   "source": [
    "rf = ExtraTreesRegressor() \n",
    "rf_random = RandomizedSearchCV(estimator=rf, param_distributions=random_grid,\n",
    "                              n_iter = 100, scoring='neg_mean_absolute_error', \n",
    "                              cv = 3, verbose=2, n_jobs=-1,\n",
    "                              return_train_score=True)\n",
    "\n",
    "\n",
    "rf_random.fit(train_features, train_labels);"
   ]
  },
  {
   "cell_type": "code",
   "execution_count": null,
   "metadata": {},
   "outputs": [],
   "source": [
    "rf_random.best_params_"
   ]
  },
  {
   "cell_type": "code",
   "execution_count": null,
   "metadata": {},
   "outputs": [],
   "source": [
    "#evaluate accuracy of base model using .score \n",
    "base_model = ExtraTreesRegressor(n_estimators = 10, random_state = 42)\n",
    "base_model.fit(train_features, train_labels)\n",
    "base_model.score(test_features, test_labels) #r squared"
   ]
  },
  {
   "cell_type": "code",
   "execution_count": null,
   "metadata": {},
   "outputs": [],
   "source": [
    "# Make predictions on test data using the model trained on original data\n",
    "predictions = base_model.predict(test_features)\n",
    "errors = abs(predictions - test_labels)\n",
    "# Performance metrics\n",
    "\n",
    "print('Metrics for Random Forest Trained on Original Data')\n",
    "print('Average absolute error:', round(np.mean(errors), 2), 'points.')\n",
    "# Calculate mean absolute percentage error (MAPE)\n",
    "mape = 100 * (errors / test_labels)\n",
    "# Calculate and display accuracy\n",
    "accuracy = 100 - np.mean(mape)\n",
    "print('Accuracy:', round(accuracy, 2), '%.')"
   ]
  },
  {
   "cell_type": "code",
   "execution_count": null,
   "metadata": {},
   "outputs": [],
   "source": [
    "#evaluate accuracy of model using evaluate function\n",
    "def evaluate(model, test_features, test_labels):\n",
    "    predictions = model.predict(test_features)\n",
    "    errors = abs(predictions - test_labels)\n",
    "    mape = 100 * np.mean(errors / test_labels)\n",
    "    accuracy = 100 - mape\n",
    "    print('Model Performance')\n",
    "    print('Average absolute error:', round(np.mean(errors), 2), 'points.')\n",
    "    print('Accuracy:', round(accuracy, 2), '%.')\n",
    "    \n",
    "    return accuracy"
   ]
  },
  {
   "cell_type": "code",
   "execution_count": null,
   "metadata": {},
   "outputs": [],
   "source": [
    "base_accuracy = evaluate(base_model, test_features, test_labels)"
   ]
  },
  {
   "cell_type": "code",
   "execution_count": null,
   "metadata": {},
   "outputs": [],
   "source": [
    "#evaluation accuracy of best model from random grid search\n",
    "best_random = rf_random.best_estimator_\n",
    "best_random.score(test_features, test_labels) #r squared"
   ]
  },
  {
   "cell_type": "code",
   "execution_count": null,
   "metadata": {},
   "outputs": [],
   "source": [
    "#evaluate accuracy of model using accuracy_score \n",
    "random_accuracy = evaluate(best_random, test_features, test_labels)"
   ]
  },
  {
   "cell_type": "code",
   "execution_count": null,
   "metadata": {},
   "outputs": [],
   "source": [
    "#code to confirm accuracy scores\n",
    "#y_pred_test = base_model.predict(test_features)\n",
    "#test = pd.DataFrame({'testlabels':test_labels, 'y_pred':y_pred_test})\n",
    "y_pred_test\n",
    "#test_labels"
   ]
  },
  {
   "cell_type": "code",
   "execution_count": null,
   "metadata": {},
   "outputs": [],
   "source": [
    "#examine feature importances from best model from random grid search\n",
    "feature_df = pd.DataFrame({'feature': df3.columns,\n",
    "                          'importance': best_random.feature_importances_})\n",
    "feature_df.sort_values(by='importance', ascending=False)"
   ]
  },
  {
   "cell_type": "code",
   "execution_count": null,
   "metadata": {},
   "outputs": [],
   "source": [
    "#https://scikit-learn.org/stable/modules/multiclass.html#multioutput-regression\n",
    "#best_random.estimators_[0]\n",
    "#viz = dtreeviz(best_random.estimators_[0], train_labels, train_features)"
   ]
  },
  {
   "cell_type": "code",
   "execution_count": null,
   "metadata": {},
   "outputs": [],
   "source": [
    "########## SEQUENTIAL FEATURE SELECTION ##############\n",
    "from mlxtend.feature_selection import SequentialFeatureSelector as sfs\n",
    "# Build step forward feature selection\n",
    "sfs1 = sfs(rf,\n",
    "           k_features=5,\n",
    "           forward=True,\n",
    "           floating=False,\n",
    "           verbose=2,\n",
    "           scoring='neg_mean_absolute_error',\n",
    "           cv=5)\n",
    "\n",
    "# Perform SFFS\n",
    "sfs1 = sfs1.fit(train_features, train_labels)"
   ]
  },
  {
   "cell_type": "code",
   "execution_count": 159,
   "metadata": {},
   "outputs": [
    {
     "data": {
      "text/plain": [
       "['gender',\n",
       " 'hoos_adl_score_baseline',\n",
       " 'hoos_sports_score_baseline',\n",
       " 'hoos_pain_score_baseline',\n",
       " 'SagPC5']"
      ]
     },
     "execution_count": 159,
     "metadata": {},
     "output_type": "execute_result"
    }
   ],
   "source": [
    "# Which features?\n",
    "feat_cols = list(sfs1.k_feature_idx_)\n",
    "newfeatures=train_features.iloc[:, feat_cols]\n",
    "list(newfeatures.columns)"
   ]
  },
  {
   "cell_type": "code",
   "execution_count": 155,
   "metadata": {},
   "outputs": [
    {
     "name": "stdout",
     "output_type": "stream",
     "text": [
      "Model Performance\n",
      "Average absolute error: hoos_symptoms_score_3yr     5.69\n",
      "hoos_adl_score_3yr          2.53\n",
      "hoos_sports_score_3yr       4.96\n",
      "hoos_qol_score_3yr         10.45\n",
      "hoos_pain_score_3yr         3.59\n",
      "dtype: float64 points.\n",
      "Accuracy: hoos_symptoms_score_3yr    92.86\n",
      "hoos_adl_score_3yr         96.94\n",
      "hoos_sports_score_3yr      92.90\n",
      "hoos_qol_score_3yr         84.56\n",
      "hoos_pain_score_3yr        95.77\n",
      "dtype: float64 %.\n"
     ]
    }
   ],
   "source": [
    "# Build full model with selected features\n",
    "best_random.fit(newfeatures, train_labels)\n",
    "\n",
    "#random_accuracy = evaluate(best_random, newfeatures, train_labels)\n",
    "\n",
    "random_accuracy = evaluate(best_random, test_features.iloc[:, feat_cols], test_labels)"
   ]
  },
  {
   "cell_type": "code",
   "execution_count": 156,
   "metadata": {},
   "outputs": [
    {
     "data": {
      "text/html": [
       "<div>\n",
       "<style scoped>\n",
       "    .dataframe tbody tr th:only-of-type {\n",
       "        vertical-align: middle;\n",
       "    }\n",
       "\n",
       "    .dataframe tbody tr th {\n",
       "        vertical-align: top;\n",
       "    }\n",
       "\n",
       "    .dataframe thead th {\n",
       "        text-align: right;\n",
       "    }\n",
       "</style>\n",
       "<table border=\"1\" class=\"dataframe\">\n",
       "  <thead>\n",
       "    <tr style=\"text-align: right;\">\n",
       "      <th></th>\n",
       "      <th>feature</th>\n",
       "      <th>importance</th>\n",
       "    </tr>\n",
       "  </thead>\n",
       "  <tbody>\n",
       "    <tr>\n",
       "      <th>2</th>\n",
       "      <td>hoos_sports_score_baseline</td>\n",
       "      <td>0.492503</td>\n",
       "    </tr>\n",
       "    <tr>\n",
       "      <th>3</th>\n",
       "      <td>hoos_pain_score_baseline</td>\n",
       "      <td>0.304366</td>\n",
       "    </tr>\n",
       "    <tr>\n",
       "      <th>1</th>\n",
       "      <td>hoos_adl_score_baseline</td>\n",
       "      <td>0.172409</td>\n",
       "    </tr>\n",
       "    <tr>\n",
       "      <th>4</th>\n",
       "      <td>SagPC5</td>\n",
       "      <td>0.024279</td>\n",
       "    </tr>\n",
       "    <tr>\n",
       "      <th>0</th>\n",
       "      <td>gender</td>\n",
       "      <td>0.006443</td>\n",
       "    </tr>\n",
       "  </tbody>\n",
       "</table>\n",
       "</div>"
      ],
      "text/plain": [
       "                      feature  importance\n",
       "2  hoos_sports_score_baseline    0.492503\n",
       "3    hoos_pain_score_baseline    0.304366\n",
       "1     hoos_adl_score_baseline    0.172409\n",
       "4                      SagPC5    0.024279\n",
       "0                      gender    0.006443"
      ]
     },
     "execution_count": 156,
     "metadata": {},
     "output_type": "execute_result"
    }
   ],
   "source": [
    "#examine feature importance\n",
    "feature_df = pd.DataFrame({'feature': newfeatures.columns,\n",
    "                          'importance': best_random.feature_importances_})\n",
    "feature_df.sort_values(by='importance', ascending=False)"
   ]
  }
 ],
 "metadata": {
  "kernelspec": {
   "display_name": "Python (accelerometer)",
   "language": "python",
   "name": "accelerometer"
  },
  "language_info": {
   "codemirror_mode": {
    "name": "ipython",
    "version": 3
   },
   "file_extension": ".py",
   "mimetype": "text/x-python",
   "name": "python",
   "nbconvert_exporter": "python",
   "pygments_lexer": "ipython3",
   "version": "3.7.11"
  }
 },
 "nbformat": 4,
 "nbformat_minor": 4
}
