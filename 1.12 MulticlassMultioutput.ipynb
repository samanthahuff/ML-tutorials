{
 "cells": [
  {
   "cell_type": "code",
   "execution_count": 7,
   "metadata": {},
   "outputs": [],
   "source": [
    "import pandas as pd\n",
    "from sklearn.datasets import make_classification\n",
    "from sklearn.multioutput import MultiOutputClassifier\n",
    "from sklearn.ensemble import RandomForestClassifier\n",
    "from sklearn.utils import shuffle\n",
    "import numpy as np\n"
   ]
  },
  {
   "cell_type": "code",
   "execution_count": 18,
   "metadata": {},
   "outputs": [
    {
     "data": {
      "text/plain": [
       "array([2, 1, 2, 0, 0, 0, 1, 1, 0, 2])"
      ]
     },
     "execution_count": 18,
     "metadata": {},
     "output_type": "execute_result"
    }
   ],
   "source": [
    "#MULTILABEL: MULTICLASS MULTIOUTPUT w/ only binary variables \n",
    "#basically just multiple random forests fitted to each output \n",
    "X, y1 = make_classification(n_samples=10, n_features=100, n_informative=30, n_classes=3, random_state=1)\n",
    "y2 = shuffle(y1, random_state=1)\n",
    "y3 = shuffle(y1, random_state=2)\n",
    "Y = np.vstack((y1, y2, y3)).T"
   ]
  },
  {
   "cell_type": "code",
   "execution_count": 5,
   "metadata": {},
   "outputs": [
    {
     "data": {
      "text/plain": [
       "1.0"
      ]
     },
     "execution_count": 5,
     "metadata": {},
     "output_type": "execute_result"
    }
   ],
   "source": [
    "n_samples, n_features = X.shape # 10,100\n",
    "n_outputs = Y.shape[1] # 3\n",
    "n_classes = 3\n",
    "forest = RandomForestClassifier(random_state=1)\n",
    "multi_target_forest = MultiOutputClassifier(forest, n_jobs=-1)\n",
    "multi_target_forest.fit(X, Y)\n",
    "#multi_target_forest.predict(X)\n",
    "multi_target_forest.score(X,Y)"
   ]
  },
  {
   "cell_type": "code",
   "execution_count": 16,
   "metadata": {},
   "outputs": [
    {
     "data": {
      "text/plain": [
       "array([[0.54, 0.65, 0.43],\n",
       "       [0.46, 0.59, 0.4 ],\n",
       "       [0.4 , 0.81, 0.22]])"
      ]
     },
     "execution_count": 16,
     "metadata": {},
     "output_type": "execute_result"
    }
   ],
   "source": [
    "#CLASSIFIER CHAIN: uses correlation of different labels in prediction\n",
    "from sklearn.datasets import make_multilabel_classification\n",
    "from sklearn.linear_model import LogisticRegression\n",
    "from sklearn.model_selection import train_test_split\n",
    "from sklearn.multioutput import ClassifierChain\n",
    "X, Y = make_multilabel_classification(\n",
    "   n_samples=12, n_classes=3, random_state=0\n",
    ")\n",
    "X_train, X_test, Y_train, Y_test = train_test_split(\n",
    "   X, Y, random_state=0\n",
    ")\n",
    "forest = RandomForestClassifier(random_state=1)\n",
    "chain = ClassifierChain(forest, order='random', random_state=0)\n",
    "chain.fit(X_train, Y_train).predict(X_test)\n",
    "\n",
    "chain.predict_proba(X_test)"
   ]
  },
  {
   "cell_type": "code",
   "execution_count": 11,
   "metadata": {},
   "outputs": [
    {
     "data": {
      "text/plain": [
       "0.3333333333333333"
      ]
     },
     "execution_count": 11,
     "metadata": {},
     "output_type": "execute_result"
    }
   ],
   "source": [
    "chain.score(X_test, Y_test)"
   ]
  },
  {
   "cell_type": "code",
   "execution_count": 12,
   "metadata": {},
   "outputs": [
    {
     "data": {
      "text/plain": [
       "0.3333333333333333"
      ]
     },
     "execution_count": 12,
     "metadata": {},
     "output_type": "execute_result"
    }
   ],
   "source": [
    "#COMPARE CHAINED MODEL TO UNCHAINED\n",
    "multi_target_forest = MultiOutputClassifier(forest, n_jobs=-1)\n",
    "multi_target_forest.fit(X_train, Y_train)\n",
    "#multi_target_forest.predict(X)\n",
    "multi_target_forest.score(X_test,Y_test)"
   ]
  },
  {
   "cell_type": "code",
   "execution_count": null,
   "metadata": {},
   "outputs": [],
   "source": [
    "#MULTICLASS MULTIOUPUT: multiple outputs that have multiple classes "
   ]
  },
  {
   "cell_type": "code",
   "execution_count": 28,
   "metadata": {},
   "outputs": [],
   "source": [
    "X, y1 = make_classification(n_samples=30, n_features=100, n_informative=30, n_classes=5, random_state=1)\n",
    "y2 = shuffle(y1, random_state=1)\n",
    "y3 = shuffle(y1, random_state=2)\n",
    "Y = np.vstack((y1, y2, y3)).T"
   ]
  },
  {
   "cell_type": "code",
   "execution_count": 33,
   "metadata": {},
   "outputs": [],
   "source": [
    "X_train, X_test, Y_train, Y_test = train_test_split(\n",
    "   X, Y, random_state=0\n",
    ")"
   ]
  },
  {
   "cell_type": "code",
   "execution_count": 36,
   "metadata": {},
   "outputs": [
    {
     "data": {
      "text/plain": [
       "(22, 3)"
      ]
     },
     "execution_count": 36,
     "metadata": {},
     "output_type": "execute_result"
    }
   ],
   "source": [
    "Y_train.shape"
   ]
  },
  {
   "cell_type": "code",
   "execution_count": 45,
   "metadata": {},
   "outputs": [
    {
     "data": {
      "text/plain": [
       "0.0"
      ]
     },
     "execution_count": 45,
     "metadata": {},
     "output_type": "execute_result"
    }
   ],
   "source": [
    "multi_target_forest = MultiOutputClassifier(forest, n_jobs=-1)\n",
    "multi_target_forest.fit(X_train, Y_train)\n",
    "#multi_target_forest.predict(X)\n",
    "multi_target_forest.score(X_test,Y_test)"
   ]
  },
  {
   "cell_type": "code",
   "execution_count": 40,
   "metadata": {},
   "outputs": [
    {
     "data": {
      "text/plain": [
       "[array([[0.38, 0.14, 0.11, 0.2 , 0.17],\n",
       "        [0.21, 0.39, 0.11, 0.15, 0.14],\n",
       "        [0.21, 0.27, 0.2 , 0.15, 0.17],\n",
       "        [0.23, 0.23, 0.18, 0.19, 0.17],\n",
       "        [0.14, 0.28, 0.16, 0.14, 0.28],\n",
       "        [0.18, 0.33, 0.19, 0.16, 0.14],\n",
       "        [0.22, 0.22, 0.14, 0.28, 0.14],\n",
       "        [0.29, 0.24, 0.13, 0.13, 0.21]]),\n",
       " array([[0.24, 0.17, 0.22, 0.28, 0.09],\n",
       "        [0.35, 0.11, 0.19, 0.24, 0.11],\n",
       "        [0.24, 0.15, 0.3 , 0.22, 0.09],\n",
       "        [0.36, 0.05, 0.22, 0.26, 0.11],\n",
       "        [0.4 , 0.06, 0.16, 0.24, 0.14],\n",
       "        [0.42, 0.08, 0.29, 0.12, 0.09],\n",
       "        [0.29, 0.15, 0.17, 0.28, 0.11],\n",
       "        [0.32, 0.1 , 0.23, 0.14, 0.21]]),\n",
       " array([[0.29, 0.15, 0.17, 0.19, 0.2 ],\n",
       "        [0.18, 0.35, 0.07, 0.16, 0.24],\n",
       "        [0.16, 0.29, 0.09, 0.16, 0.3 ],\n",
       "        [0.22, 0.3 , 0.22, 0.06, 0.2 ],\n",
       "        [0.29, 0.23, 0.16, 0.18, 0.14],\n",
       "        [0.21, 0.27, 0.16, 0.19, 0.17],\n",
       "        [0.31, 0.16, 0.21, 0.14, 0.18],\n",
       "        [0.17, 0.33, 0.2 , 0.2 , 0.1 ]])]"
      ]
     },
     "execution_count": 40,
     "metadata": {},
     "output_type": "execute_result"
    }
   ],
   "source": [
    "multi_target_forest.predict_proba(X_test)"
   ]
  },
  {
   "cell_type": "code",
   "execution_count": 41,
   "metadata": {},
   "outputs": [
    {
     "data": {
      "text/plain": [
       "(8, 100)"
      ]
     },
     "execution_count": 41,
     "metadata": {},
     "output_type": "execute_result"
    }
   ],
   "source": [
    "X_test.shape"
   ]
  }
 ],
 "metadata": {
  "kernelspec": {
   "display_name": "Python (sklearn_env)",
   "language": "python",
   "name": "sklearn_env"
  },
  "language_info": {
   "codemirror_mode": {
    "name": "ipython",
    "version": 3
   },
   "file_extension": ".py",
   "mimetype": "text/x-python",
   "name": "python",
   "nbconvert_exporter": "python",
   "pygments_lexer": "ipython3",
   "version": "3.7.11"
  }
 },
 "nbformat": 4,
 "nbformat_minor": 4
}
