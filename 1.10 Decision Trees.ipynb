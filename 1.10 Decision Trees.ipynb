{
 "cells": [
  {
   "cell_type": "code",
   "execution_count": 1,
   "metadata": {},
   "outputs": [],
   "source": [
    "\"https://scikit-learn.org/stable/auto_examples/tree/plot_unveil_tree_structure.html#sphx-glr-auto-examples-tree-plot-unveil-tree-structure-py\"\n",
    "from sklearn import tree\n",
    "X = [[0, 0], [1, 1]]\n",
    "Y = [0, 1]\n",
    "clf = tree.DecisionTreeClassifier()\n",
    "clf = clf.fit(X, Y)"
   ]
  },
  {
   "cell_type": "code",
   "execution_count": 10,
   "metadata": {},
   "outputs": [
    {
     "data": {
      "text/plain": [
       "array([1])"
      ]
     },
     "execution_count": 10,
     "metadata": {},
     "output_type": "execute_result"
    }
   ],
   "source": [
    "clf.predict([[.4, .8]])"
   ]
  },
  {
   "cell_type": "code",
   "execution_count": 13,
   "metadata": {},
   "outputs": [
    {
     "data": {
      "text/plain": [
       "array([[0., 1.]])"
      ]
     },
     "execution_count": 13,
     "metadata": {},
     "output_type": "execute_result"
    }
   ],
   "source": [
    "clf.predict_proba([[.2, .8]])"
   ]
  },
  {
   "cell_type": "code",
   "execution_count": 33,
   "metadata": {},
   "outputs": [],
   "source": [
    "from sklearn.datasets import load_iris\n",
    "from sklearn import tree\n",
    "iris = load_iris()\n",
    "X, y = iris.data, iris.target\n",
    "clf = tree.DecisionTreeClassifier()\n",
    "clf = clf.fit(X, y)"
   ]
  },
  {
   "cell_type": "code",
   "execution_count": 34,
   "metadata": {},
   "outputs": [
    {
     "data": {
      "text/plain": [
       "[Text(167.4, 199.32, 'X[3] <= 0.8\\ngini = 0.667\\nsamples = 150\\nvalue = [50, 50, 50]'),\n",
       " Text(141.64615384615385, 163.07999999999998, 'gini = 0.0\\nsamples = 50\\nvalue = [50, 0, 0]'),\n",
       " Text(193.15384615384616, 163.07999999999998, 'X[3] <= 1.75\\ngini = 0.5\\nsamples = 100\\nvalue = [0, 50, 50]'),\n",
       " Text(103.01538461538462, 126.83999999999999, 'X[2] <= 4.95\\ngini = 0.168\\nsamples = 54\\nvalue = [0, 49, 5]'),\n",
       " Text(51.50769230769231, 90.6, 'X[3] <= 1.65\\ngini = 0.041\\nsamples = 48\\nvalue = [0, 47, 1]'),\n",
       " Text(25.753846153846155, 54.359999999999985, 'gini = 0.0\\nsamples = 47\\nvalue = [0, 47, 0]'),\n",
       " Text(77.26153846153846, 54.359999999999985, 'gini = 0.0\\nsamples = 1\\nvalue = [0, 0, 1]'),\n",
       " Text(154.52307692307693, 90.6, 'X[3] <= 1.55\\ngini = 0.444\\nsamples = 6\\nvalue = [0, 2, 4]'),\n",
       " Text(128.76923076923077, 54.359999999999985, 'gini = 0.0\\nsamples = 3\\nvalue = [0, 0, 3]'),\n",
       " Text(180.27692307692308, 54.359999999999985, 'X[0] <= 6.95\\ngini = 0.444\\nsamples = 3\\nvalue = [0, 2, 1]'),\n",
       " Text(154.52307692307693, 18.119999999999976, 'gini = 0.0\\nsamples = 2\\nvalue = [0, 2, 0]'),\n",
       " Text(206.03076923076924, 18.119999999999976, 'gini = 0.0\\nsamples = 1\\nvalue = [0, 0, 1]'),\n",
       " Text(283.2923076923077, 126.83999999999999, 'X[2] <= 4.85\\ngini = 0.043\\nsamples = 46\\nvalue = [0, 1, 45]'),\n",
       " Text(257.53846153846155, 90.6, 'X[0] <= 5.95\\ngini = 0.444\\nsamples = 3\\nvalue = [0, 1, 2]'),\n",
       " Text(231.7846153846154, 54.359999999999985, 'gini = 0.0\\nsamples = 1\\nvalue = [0, 1, 0]'),\n",
       " Text(283.2923076923077, 54.359999999999985, 'gini = 0.0\\nsamples = 2\\nvalue = [0, 0, 2]'),\n",
       " Text(309.04615384615386, 90.6, 'gini = 0.0\\nsamples = 43\\nvalue = [0, 0, 43]')]"
      ]
     },
     "execution_count": 34,
     "metadata": {},
     "output_type": "execute_result"
    },
    {
     "data": {
      "image/png": "[encoded data removed]",
      "text/plain": [
       "<Figure size 432x288 with 1 Axes>"
      ]
     },
     "metadata": {
      "needs_background": "light"
     },
     "output_type": "display_data"
    }
   ],
   "source": [
    "tree.plot_tree(clf)"
   ]
  },
  {
   "cell_type": "code",
   "execution_count": 1,
   "metadata": {},
   "outputs": [
    {
     "ename": "NameError",
     "evalue": "name 'tree' is not defined",
     "output_type": "error",
     "traceback": [
      "\u001b[0;31m---------------------------------------------------------------------------\u001b[0m",
      "\u001b[0;31mNameError\u001b[0m                                 Traceback (most recent call last)",
      "\u001b[0;32m/scratch/shuff/ipykernel_46222/3802718074.py\u001b[0m in \u001b[0;36m<module>\u001b[0;34m\u001b[0m\n\u001b[1;32m      1\u001b[0m \u001b[0;32mimport\u001b[0m \u001b[0mgraphviz\u001b[0m\u001b[0;34m\u001b[0m\u001b[0;34m\u001b[0m\u001b[0m\n\u001b[0;32m----> 2\u001b[0;31m \u001b[0mdot_data\u001b[0m \u001b[0;34m=\u001b[0m \u001b[0mtree\u001b[0m\u001b[0;34m.\u001b[0m\u001b[0mexport_graphviz\u001b[0m\u001b[0;34m(\u001b[0m\u001b[0mclf\u001b[0m\u001b[0;34m,\u001b[0m \u001b[0mout_file\u001b[0m\u001b[0;34m=\u001b[0m\u001b[0;32mNone\u001b[0m\u001b[0;34m)\u001b[0m\u001b[0;34m\u001b[0m\u001b[0;34m\u001b[0m\u001b[0m\n\u001b[0m\u001b[1;32m      3\u001b[0m \u001b[0mgraph\u001b[0m \u001b[0;34m=\u001b[0m \u001b[0mgraphviz\u001b[0m\u001b[0;34m.\u001b[0m\u001b[0mSource\u001b[0m\u001b[0;34m(\u001b[0m\u001b[0mdot_data\u001b[0m\u001b[0;34m)\u001b[0m\u001b[0;34m\u001b[0m\u001b[0;34m\u001b[0m\u001b[0m\n\u001b[1;32m      4\u001b[0m \u001b[0mgraph\u001b[0m\u001b[0;34m.\u001b[0m\u001b[0mrender\u001b[0m\u001b[0;34m(\u001b[0m\u001b[0;34m\"iris\"\u001b[0m\u001b[0;34m)\u001b[0m\u001b[0;34m\u001b[0m\u001b[0;34m\u001b[0m\u001b[0m\n",
      "\u001b[0;31mNameError\u001b[0m: name 'tree' is not defined"
     ]
    }
   ],
   "source": [
    "import graphviz \n",
    "dot_data = tree.export_graphviz(clf, out_file=None) \n",
    "graph = graphviz.Source(dot_data) \n",
    "graph.render(\"iris\") "
   ]
  },
  {
   "cell_type": "code",
   "execution_count": 36,
   "metadata": {},
   "outputs": [
    {
     "data": {
      "image/svg+xml": [
       "<?xml version=\"1.0\" encoding=\"UTF-8\" standalone=\"no\"?>\n",
       "<!DOCTYPE svg PUBLIC \"-//W3C//DTD SVG 1.1//EN\"\n",
       " \"http://www.w3.org/Graphics/SVG/1.1/DTD/svg11.dtd\">\n",
       "<!-- Generated by graphviz version 2.30.1 (20200304.1809)\n",
       " -->\n",
       "<!-- Title: Tree Pages: 1 -->\n",
       "<svg width=\"1018pt\" height=\"654pt\"\n",
       " viewBox=\"0.00 0.00 1018.00 654.00\" xmlns=\"http://www.w3.org/2000/svg\" xmlns:xlink=\"http://www.w3.org/1999/xlink\">\n",
       "<g id=\"graph0\" class=\"graph\" transform=\"scale(1 1) rotate(0) translate(4 650)\">\n",
       "<title>Tree</title>\n",
       "<polygon fill=\"white\" stroke=\"white\" points=\"-4,5 -4,-650 1015,-650 1015,5 -4,5\"/>\n",
       "<!-- 0 -->\n",
       "<g id=\"node1\" class=\"node\"><title>0</title>\n",
       "<path fill=\"#ffffff\" stroke=\"black\" d=\"M605.25,-645.5C605.25,-645.5 452.75,-645.5 452.75,-645.5 446.75,-645.5 440.75,-639.5 440.75,-633.5 440.75,-633.5 440.75,-578.5 440.75,-578.5 440.75,-572.5 446.75,-566.5 452.75,-566.5 452.75,-566.5 605.25,-566.5 605.25,-566.5 611.25,-566.5 617.25,-572.5 617.25,-578.5 617.25,-578.5 617.25,-633.5 617.25,-633.5 617.25,-639.5 611.25,-645.5 605.25,-645.5\"/>\n",
       "<text text-anchor=\"start\" x=\"449\" y=\"-631.3\" font-family=\"Helvetica,sans-Serif\" font-size=\"14.00\">petal width (cm) ≤ 0.8</text>\n",
       "<text text-anchor=\"start\" x=\"485\" y=\"-617.3\" font-family=\"Helvetica,sans-Serif\" font-size=\"14.00\">gini = 0.667</text>\n",
       "<text text-anchor=\"start\" x=\"474.5\" y=\"-603.3\" font-family=\"Helvetica,sans-Serif\" font-size=\"14.00\">samples = 150</text>\n",
       "<text text-anchor=\"start\" x=\"457.5\" y=\"-589.3\" font-family=\"Helvetica,sans-Serif\" font-size=\"14.00\">value = [50, 50, 50]</text>\n",
       "<text text-anchor=\"start\" x=\"477\" y=\"-575.3\" font-family=\"Helvetica,sans-Serif\" font-size=\"14.00\">class = setosa</text>\n",
       "</g>\n",
       "<!-- 1 -->\n",
       "<g id=\"node2\" class=\"node\"><title>1</title>\n",
       "<path fill=\"#e58139\" stroke=\"black\" d=\"M497,-522.5C497,-522.5 379,-522.5 379,-522.5 373,-522.5 367,-516.5 367,-510.5 367,-510.5 367,-469.5 367,-469.5 367,-463.5 373,-457.5 379,-457.5 379,-457.5 497,-457.5 497,-457.5 503,-457.5 509,-463.5 509,-469.5 509,-469.5 509,-510.5 509,-510.5 509,-516.5 503,-522.5 497,-522.5\"/>\n",
       "<text text-anchor=\"start\" x=\"403\" y=\"-508.3\" font-family=\"Helvetica,sans-Serif\" font-size=\"14.00\">gini = 0.0</text>\n",
       "<text text-anchor=\"start\" x=\"388\" y=\"-494.3\" font-family=\"Helvetica,sans-Serif\" font-size=\"14.00\">samples = 50</text>\n",
       "<text text-anchor=\"start\" x=\"375.5\" y=\"-480.3\" font-family=\"Helvetica,sans-Serif\" font-size=\"14.00\">value = [50, 0, 0]</text>\n",
       "<text text-anchor=\"start\" x=\"386\" y=\"-466.3\" font-family=\"Helvetica,sans-Serif\" font-size=\"14.00\">class = setosa</text>\n",
       "</g>\n",
       "<!-- 0&#45;&gt;1 -->\n",
       "<g id=\"edge1\" class=\"edge\"><title>0&#45;&gt;1</title>\n",
       "<path fill=\"none\" stroke=\"black\" d=\"M498.192,-566.405C488.975,-554.859 478.857,-542.184 469.591,-530.575\"/>\n",
       "<polygon fill=\"black\" stroke=\"black\" points=\"472.307,-528.368 463.333,-522.736 466.837,-532.735 472.307,-528.368\"/>\n",
       "<text text-anchor=\"middle\" x=\"460.546\" y=\"-543.881\" font-family=\"Helvetica,sans-Serif\" font-size=\"14.00\">True</text>\n",
       "</g>\n",
       "<!-- 2 -->\n",
       "<g id=\"node3\" class=\"node\"><title>2</title>\n",
       "<path fill=\"#ffffff\" stroke=\"black\" d=\"M701,-529.5C701,-529.5 539,-529.5 539,-529.5 533,-529.5 527,-523.5 527,-517.5 527,-517.5 527,-462.5 527,-462.5 527,-456.5 533,-450.5 539,-450.5 539,-450.5 701,-450.5 701,-450.5 707,-450.5 713,-456.5 713,-462.5 713,-462.5 713,-517.5 713,-517.5 713,-523.5 707,-529.5 701,-529.5\"/>\n",
       "<text text-anchor=\"start\" x=\"535.5\" y=\"-515.3\" font-family=\"Helvetica,sans-Serif\" font-size=\"14.00\">petal width (cm) ≤ 1.75</text>\n",
       "<text text-anchor=\"start\" x=\"585\" y=\"-501.3\" font-family=\"Helvetica,sans-Serif\" font-size=\"14.00\">gini = 0.5</text>\n",
       "<text text-anchor=\"start\" x=\"565.5\" y=\"-487.3\" font-family=\"Helvetica,sans-Serif\" font-size=\"14.00\">samples = 100</text>\n",
       "<text text-anchor=\"start\" x=\"553\" y=\"-473.3\" font-family=\"Helvetica,sans-Serif\" font-size=\"14.00\">value = [0, 50, 50]</text>\n",
       "<text text-anchor=\"start\" x=\"556.5\" y=\"-459.3\" font-family=\"Helvetica,sans-Serif\" font-size=\"14.00\">class = versicolor</text>\n",
       "</g>\n",
       "<!-- 0&#45;&gt;2 -->\n",
       "<g id=\"edge2\" class=\"edge\"><title>0&#45;&gt;2</title>\n",
       "<path fill=\"none\" stroke=\"black\" d=\"M559.808,-566.405C567.221,-557.119 575.215,-547.104 582.881,-537.5\"/>\n",
       "<polygon fill=\"black\" stroke=\"black\" points=\"585.72,-539.554 589.223,-529.555 580.249,-535.187 585.72,-539.554\"/>\n",
       "<text text-anchor=\"middle\" x=\"592.011\" y=\"-550.7\" font-family=\"Helvetica,sans-Serif\" font-size=\"14.00\">False</text>\n",
       "</g>\n",
       "<!-- 3 -->\n",
       "<g id=\"node4\" class=\"node\"><title>3</title>\n",
       "<path fill=\"#4de88e\" stroke=\"black\" d=\"M572,-413.5C572,-413.5 404,-413.5 404,-413.5 398,-413.5 392,-407.5 392,-401.5 392,-401.5 392,-346.5 392,-346.5 392,-340.5 398,-334.5 404,-334.5 404,-334.5 572,-334.5 572,-334.5 578,-334.5 584,-340.5 584,-346.5 584,-346.5 584,-401.5 584,-401.5 584,-407.5 578,-413.5 572,-413.5\"/>\n",
       "<text text-anchor=\"start\" x=\"400.5\" y=\"-399.3\" font-family=\"Helvetica,sans-Serif\" font-size=\"14.00\">petal length (cm) ≤ 4.95</text>\n",
       "<text text-anchor=\"start\" x=\"444\" y=\"-385.3\" font-family=\"Helvetica,sans-Serif\" font-size=\"14.00\">gini = 0.168</text>\n",
       "<text text-anchor=\"start\" x=\"438\" y=\"-371.3\" font-family=\"Helvetica,sans-Serif\" font-size=\"14.00\">samples = 54</text>\n",
       "<text text-anchor=\"start\" x=\"425.5\" y=\"-357.3\" font-family=\"Helvetica,sans-Serif\" font-size=\"14.00\">value = [0, 49, 5]</text>\n",
       "<text text-anchor=\"start\" x=\"424.5\" y=\"-343.3\" font-family=\"Helvetica,sans-Serif\" font-size=\"14.00\">class = versicolor</text>\n",
       "</g>\n",
       "<!-- 2&#45;&gt;3 -->\n",
       "<g id=\"edge3\" class=\"edge\"><title>2&#45;&gt;3</title>\n",
       "<path fill=\"none\" stroke=\"black\" d=\"M575.311,-450.405C564.129,-440.748 552.033,-430.302 540.511,-420.35\"/>\n",
       "<polygon fill=\"black\" stroke=\"black\" points=\"542.499,-417.443 532.643,-413.555 537.924,-422.741 542.499,-417.443\"/>\n",
       "</g>\n",
       "<!-- 12 -->\n",
       "<g id=\"node13\" class=\"node\"><title>12</title>\n",
       "<path fill=\"#843de6\" stroke=\"black\" d=\"M836,-413.5C836,-413.5 668,-413.5 668,-413.5 662,-413.5 656,-407.5 656,-401.5 656,-401.5 656,-346.5 656,-346.5 656,-340.5 662,-334.5 668,-334.5 668,-334.5 836,-334.5 836,-334.5 842,-334.5 848,-340.5 848,-346.5 848,-346.5 848,-401.5 848,-401.5 848,-407.5 842,-413.5 836,-413.5\"/>\n",
       "<text text-anchor=\"start\" x=\"664.5\" y=\"-399.3\" font-family=\"Helvetica,sans-Serif\" font-size=\"14.00\">petal length (cm) ≤ 4.85</text>\n",
       "<text text-anchor=\"start\" x=\"708\" y=\"-385.3\" font-family=\"Helvetica,sans-Serif\" font-size=\"14.00\">gini = 0.043</text>\n",
       "<text text-anchor=\"start\" x=\"702\" y=\"-371.3\" font-family=\"Helvetica,sans-Serif\" font-size=\"14.00\">samples = 46</text>\n",
       "<text text-anchor=\"start\" x=\"689.5\" y=\"-357.3\" font-family=\"Helvetica,sans-Serif\" font-size=\"14.00\">value = [0, 1, 45]</text>\n",
       "<text text-anchor=\"start\" x=\"693.5\" y=\"-343.3\" font-family=\"Helvetica,sans-Serif\" font-size=\"14.00\">class = virginica</text>\n",
       "</g>\n",
       "<!-- 2&#45;&gt;12 -->\n",
       "<g id=\"edge12\" class=\"edge\"><title>2&#45;&gt;12</title>\n",
       "<path fill=\"none\" stroke=\"black\" d=\"M664.689,-450.405C675.871,-440.748 687.967,-430.302 699.489,-420.35\"/>\n",
       "<polygon fill=\"black\" stroke=\"black\" points=\"702.076,-422.741 707.357,-413.555 697.501,-417.443 702.076,-422.741\"/>\n",
       "</g>\n",
       "<!-- 4 -->\n",
       "<g id=\"node5\" class=\"node\"><title>4</title>\n",
       "<path fill=\"#3de684\" stroke=\"black\" d=\"M310,-297.5C310,-297.5 148,-297.5 148,-297.5 142,-297.5 136,-291.5 136,-285.5 136,-285.5 136,-230.5 136,-230.5 136,-224.5 142,-218.5 148,-218.5 148,-218.5 310,-218.5 310,-218.5 316,-218.5 322,-224.5 322,-230.5 322,-230.5 322,-285.5 322,-285.5 322,-291.5 316,-297.5 310,-297.5\"/>\n",
       "<text text-anchor=\"start\" x=\"144.5\" y=\"-283.3\" font-family=\"Helvetica,sans-Serif\" font-size=\"14.00\">petal width (cm) ≤ 1.65</text>\n",
       "<text text-anchor=\"start\" x=\"185\" y=\"-269.3\" font-family=\"Helvetica,sans-Serif\" font-size=\"14.00\">gini = 0.041</text>\n",
       "<text text-anchor=\"start\" x=\"179\" y=\"-255.3\" font-family=\"Helvetica,sans-Serif\" font-size=\"14.00\">samples = 48</text>\n",
       "<text text-anchor=\"start\" x=\"166.5\" y=\"-241.3\" font-family=\"Helvetica,sans-Serif\" font-size=\"14.00\">value = [0, 47, 1]</text>\n",
       "<text text-anchor=\"start\" x=\"165.5\" y=\"-227.3\" font-family=\"Helvetica,sans-Serif\" font-size=\"14.00\">class = versicolor</text>\n",
       "</g>\n",
       "<!-- 3&#45;&gt;4 -->\n",
       "<g id=\"edge4\" class=\"edge\"><title>3&#45;&gt;4</title>\n",
       "<path fill=\"none\" stroke=\"black\" d=\"M400.314,-334.405C376.371,-323.866 350.29,-312.387 325.867,-301.636\"/>\n",
       "<polygon fill=\"black\" stroke=\"black\" points=\"327.158,-298.381 316.595,-297.555 324.338,-304.788 327.158,-298.381\"/>\n",
       "</g>\n",
       "<!-- 7 -->\n",
       "<g id=\"node8\" class=\"node\"><title>7</title>\n",
       "<path fill=\"#c09cf2\" stroke=\"black\" d=\"M569,-297.5C569,-297.5 407,-297.5 407,-297.5 401,-297.5 395,-291.5 395,-285.5 395,-285.5 395,-230.5 395,-230.5 395,-224.5 401,-218.5 407,-218.5 407,-218.5 569,-218.5 569,-218.5 575,-218.5 581,-224.5 581,-230.5 581,-230.5 581,-285.5 581,-285.5 581,-291.5 575,-297.5 569,-297.5\"/>\n",
       "<text text-anchor=\"start\" x=\"403.5\" y=\"-283.3\" font-family=\"Helvetica,sans-Serif\" font-size=\"14.00\">petal width (cm) ≤ 1.55</text>\n",
       "<text text-anchor=\"start\" x=\"444\" y=\"-269.3\" font-family=\"Helvetica,sans-Serif\" font-size=\"14.00\">gini = 0.444</text>\n",
       "<text text-anchor=\"start\" x=\"442.5\" y=\"-255.3\" font-family=\"Helvetica,sans-Serif\" font-size=\"14.00\">samples = 6</text>\n",
       "<text text-anchor=\"start\" x=\"430\" y=\"-241.3\" font-family=\"Helvetica,sans-Serif\" font-size=\"14.00\">value = [0, 2, 4]</text>\n",
       "<text text-anchor=\"start\" x=\"429.5\" y=\"-227.3\" font-family=\"Helvetica,sans-Serif\" font-size=\"14.00\">class = virginica</text>\n",
       "</g>\n",
       "<!-- 3&#45;&gt;7 -->\n",
       "<g id=\"edge7\" class=\"edge\"><title>3&#45;&gt;7</title>\n",
       "<path fill=\"none\" stroke=\"black\" d=\"M488,-334.405C488,-325.862 488,-316.702 488,-307.813\"/>\n",
       "<polygon fill=\"black\" stroke=\"black\" points=\"491.5,-307.555 488,-297.555 484.5,-307.555 491.5,-307.555\"/>\n",
       "</g>\n",
       "<!-- 5 -->\n",
       "<g id=\"node6\" class=\"node\"><title>5</title>\n",
       "<path fill=\"#39e581\" stroke=\"black\" d=\"M132,-174.5C132,-174.5 12,-174.5 12,-174.5 6,-174.5 0,-168.5 0,-162.5 0,-162.5 0,-121.5 0,-121.5 0,-115.5 6,-109.5 12,-109.5 12,-109.5 132,-109.5 132,-109.5 138,-109.5 144,-115.5 144,-121.5 144,-121.5 144,-162.5 144,-162.5 144,-168.5 138,-174.5 132,-174.5\"/>\n",
       "<text text-anchor=\"start\" x=\"37\" y=\"-160.3\" font-family=\"Helvetica,sans-Serif\" font-size=\"14.00\">gini = 0.0</text>\n",
       "<text text-anchor=\"start\" x=\"22\" y=\"-146.3\" font-family=\"Helvetica,sans-Serif\" font-size=\"14.00\">samples = 47</text>\n",
       "<text text-anchor=\"start\" x=\"9.5\" y=\"-132.3\" font-family=\"Helvetica,sans-Serif\" font-size=\"14.00\">value = [0, 47, 0]</text>\n",
       "<text text-anchor=\"start\" x=\"8.5\" y=\"-118.3\" font-family=\"Helvetica,sans-Serif\" font-size=\"14.00\">class = versicolor</text>\n",
       "</g>\n",
       "<!-- 4&#45;&gt;5 -->\n",
       "<g id=\"edge5\" class=\"edge\"><title>4&#45;&gt;5</title>\n",
       "<path fill=\"none\" stroke=\"black\" d=\"M175.847,-218.405C159.105,-206.248 140.641,-192.841 123.982,-180.745\"/>\n",
       "<polygon fill=\"black\" stroke=\"black\" points=\"125.601,-177.595 115.453,-174.552 121.489,-183.26 125.601,-177.595\"/>\n",
       "</g>\n",
       "<!-- 6 -->\n",
       "<g id=\"node7\" class=\"node\"><title>6</title>\n",
       "<path fill=\"#8139e5\" stroke=\"black\" d=\"M284,-174.5C284,-174.5 174,-174.5 174,-174.5 168,-174.5 162,-168.5 162,-162.5 162,-162.5 162,-121.5 162,-121.5 162,-115.5 168,-109.5 174,-109.5 174,-109.5 284,-109.5 284,-109.5 290,-109.5 296,-115.5 296,-121.5 296,-121.5 296,-162.5 296,-162.5 296,-168.5 290,-174.5 284,-174.5\"/>\n",
       "<text text-anchor=\"start\" x=\"194\" y=\"-160.3\" font-family=\"Helvetica,sans-Serif\" font-size=\"14.00\">gini = 0.0</text>\n",
       "<text text-anchor=\"start\" x=\"183.5\" y=\"-146.3\" font-family=\"Helvetica,sans-Serif\" font-size=\"14.00\">samples = 1</text>\n",
       "<text text-anchor=\"start\" x=\"171\" y=\"-132.3\" font-family=\"Helvetica,sans-Serif\" font-size=\"14.00\">value = [0, 0, 1]</text>\n",
       "<text text-anchor=\"start\" x=\"170.5\" y=\"-118.3\" font-family=\"Helvetica,sans-Serif\" font-size=\"14.00\">class = virginica</text>\n",
       "</g>\n",
       "<!-- 4&#45;&gt;6 -->\n",
       "<g id=\"edge6\" class=\"edge\"><title>4&#45;&gt;6</title>\n",
       "<path fill=\"none\" stroke=\"black\" d=\"M229,-218.405C229,-207.636 229,-195.885 229,-184.933\"/>\n",
       "<polygon fill=\"black\" stroke=\"black\" points=\"232.5,-184.736 229,-174.736 225.5,-184.736 232.5,-184.736\"/>\n",
       "</g>\n",
       "<!-- 8 -->\n",
       "<g id=\"node9\" class=\"node\"><title>8</title>\n",
       "<path fill=\"#8139e5\" stroke=\"black\" d=\"M436,-174.5C436,-174.5 326,-174.5 326,-174.5 320,-174.5 314,-168.5 314,-162.5 314,-162.5 314,-121.5 314,-121.5 314,-115.5 320,-109.5 326,-109.5 326,-109.5 436,-109.5 436,-109.5 442,-109.5 448,-115.5 448,-121.5 448,-121.5 448,-162.5 448,-162.5 448,-168.5 442,-174.5 436,-174.5\"/>\n",
       "<text text-anchor=\"start\" x=\"346\" y=\"-160.3\" font-family=\"Helvetica,sans-Serif\" font-size=\"14.00\">gini = 0.0</text>\n",
       "<text text-anchor=\"start\" x=\"335.5\" y=\"-146.3\" font-family=\"Helvetica,sans-Serif\" font-size=\"14.00\">samples = 3</text>\n",
       "<text text-anchor=\"start\" x=\"323\" y=\"-132.3\" font-family=\"Helvetica,sans-Serif\" font-size=\"14.00\">value = [0, 0, 3]</text>\n",
       "<text text-anchor=\"start\" x=\"322.5\" y=\"-118.3\" font-family=\"Helvetica,sans-Serif\" font-size=\"14.00\">class = virginica</text>\n",
       "</g>\n",
       "<!-- 7&#45;&gt;8 -->\n",
       "<g id=\"edge8\" class=\"edge\"><title>7&#45;&gt;8</title>\n",
       "<path fill=\"none\" stroke=\"black\" d=\"M451.775,-218.405C440.833,-206.748 428.812,-193.94 417.831,-182.241\"/>\n",
       "<polygon fill=\"black\" stroke=\"black\" points=\"420.183,-179.633 410.788,-174.736 415.079,-184.423 420.183,-179.633\"/>\n",
       "</g>\n",
       "<!-- 9 -->\n",
       "<g id=\"node10\" class=\"node\"><title>9</title>\n",
       "<path fill=\"#9cf2c0\" stroke=\"black\" d=\"M649.25,-181.5C649.25,-181.5 478.75,-181.5 478.75,-181.5 472.75,-181.5 466.75,-175.5 466.75,-169.5 466.75,-169.5 466.75,-114.5 466.75,-114.5 466.75,-108.5 472.75,-102.5 478.75,-102.5 478.75,-102.5 649.25,-102.5 649.25,-102.5 655.25,-102.5 661.25,-108.5 661.25,-114.5 661.25,-114.5 661.25,-169.5 661.25,-169.5 661.25,-175.5 655.25,-181.5 649.25,-181.5\"/>\n",
       "<text text-anchor=\"start\" x=\"475\" y=\"-167.3\" font-family=\"Helvetica,sans-Serif\" font-size=\"14.00\">sepal length (cm) ≤ 6.95</text>\n",
       "<text text-anchor=\"start\" x=\"520\" y=\"-153.3\" font-family=\"Helvetica,sans-Serif\" font-size=\"14.00\">gini = 0.444</text>\n",
       "<text text-anchor=\"start\" x=\"518.5\" y=\"-139.3\" font-family=\"Helvetica,sans-Serif\" font-size=\"14.00\">samples = 3</text>\n",
       "<text text-anchor=\"start\" x=\"506\" y=\"-125.3\" font-family=\"Helvetica,sans-Serif\" font-size=\"14.00\">value = [0, 2, 1]</text>\n",
       "<text text-anchor=\"start\" x=\"500.5\" y=\"-111.3\" font-family=\"Helvetica,sans-Serif\" font-size=\"14.00\">class = versicolor</text>\n",
       "</g>\n",
       "<!-- 7&#45;&gt;9 -->\n",
       "<g id=\"edge9\" class=\"edge\"><title>7&#45;&gt;9</title>\n",
       "<path fill=\"none\" stroke=\"black\" d=\"M513.73,-218.405C519.797,-209.305 526.33,-199.504 532.615,-190.077\"/>\n",
       "<polygon fill=\"black\" stroke=\"black\" points=\"535.662,-191.817 538.296,-181.555 529.837,-187.935 535.662,-191.817\"/>\n",
       "</g>\n",
       "<!-- 10 -->\n",
       "<g id=\"node11\" class=\"node\"><title>10</title>\n",
       "<path fill=\"#39e581\" stroke=\"black\" d=\"M545,-65.5C545,-65.5 425,-65.5 425,-65.5 419,-65.5 413,-59.5 413,-53.5 413,-53.5 413,-12.5 413,-12.5 413,-6.5 419,-0.5 425,-0.5 425,-0.5 545,-0.5 545,-0.5 551,-0.5 557,-6.5 557,-12.5 557,-12.5 557,-53.5 557,-53.5 557,-59.5 551,-65.5 545,-65.5\"/>\n",
       "<text text-anchor=\"start\" x=\"450\" y=\"-51.3\" font-family=\"Helvetica,sans-Serif\" font-size=\"14.00\">gini = 0.0</text>\n",
       "<text text-anchor=\"start\" x=\"439.5\" y=\"-37.3\" font-family=\"Helvetica,sans-Serif\" font-size=\"14.00\">samples = 2</text>\n",
       "<text text-anchor=\"start\" x=\"427\" y=\"-23.3\" font-family=\"Helvetica,sans-Serif\" font-size=\"14.00\">value = [0, 2, 0]</text>\n",
       "<text text-anchor=\"start\" x=\"421.5\" y=\"-9.3\" font-family=\"Helvetica,sans-Serif\" font-size=\"14.00\">class = versicolor</text>\n",
       "</g>\n",
       "<!-- 9&#45;&gt;10 -->\n",
       "<g id=\"edge10\" class=\"edge\"><title>9&#45;&gt;10</title>\n",
       "<path fill=\"none\" stroke=\"black\" d=\"M535.479,-102.371C528.574,-93.0182 521.183,-83.0073 514.245,-73.6105\"/>\n",
       "<polygon fill=\"black\" stroke=\"black\" points=\"517.044,-71.5088 508.289,-65.5428 511.413,-75.6667 517.044,-71.5088\"/>\n",
       "</g>\n",
       "<!-- 11 -->\n",
       "<g id=\"node12\" class=\"node\"><title>11</title>\n",
       "<path fill=\"#8139e5\" stroke=\"black\" d=\"M697,-65.5C697,-65.5 587,-65.5 587,-65.5 581,-65.5 575,-59.5 575,-53.5 575,-53.5 575,-12.5 575,-12.5 575,-6.5 581,-0.5 587,-0.5 587,-0.5 697,-0.5 697,-0.5 703,-0.5 709,-6.5 709,-12.5 709,-12.5 709,-53.5 709,-53.5 709,-59.5 703,-65.5 697,-65.5\"/>\n",
       "<text text-anchor=\"start\" x=\"607\" y=\"-51.3\" font-family=\"Helvetica,sans-Serif\" font-size=\"14.00\">gini = 0.0</text>\n",
       "<text text-anchor=\"start\" x=\"596.5\" y=\"-37.3\" font-family=\"Helvetica,sans-Serif\" font-size=\"14.00\">samples = 1</text>\n",
       "<text text-anchor=\"start\" x=\"584\" y=\"-23.3\" font-family=\"Helvetica,sans-Serif\" font-size=\"14.00\">value = [0, 0, 1]</text>\n",
       "<text text-anchor=\"start\" x=\"583.5\" y=\"-9.3\" font-family=\"Helvetica,sans-Serif\" font-size=\"14.00\">class = virginica</text>\n",
       "</g>\n",
       "<!-- 9&#45;&gt;11 -->\n",
       "<g id=\"edge11\" class=\"edge\"><title>9&#45;&gt;11</title>\n",
       "<path fill=\"none\" stroke=\"black\" d=\"M592.16,-102.371C598.909,-93.1127 606.128,-83.2094 612.917,-73.8954\"/>\n",
       "<polygon fill=\"black\" stroke=\"black\" points=\"615.944,-75.6854 619.006,-65.5428 610.287,-71.5619 615.944,-75.6854\"/>\n",
       "</g>\n",
       "<!-- 13 -->\n",
       "<g id=\"node14\" class=\"node\"><title>13</title>\n",
       "<path fill=\"#c09cf2\" stroke=\"black\" d=\"M837.25,-297.5C837.25,-297.5 666.75,-297.5 666.75,-297.5 660.75,-297.5 654.75,-291.5 654.75,-285.5 654.75,-285.5 654.75,-230.5 654.75,-230.5 654.75,-224.5 660.75,-218.5 666.75,-218.5 666.75,-218.5 837.25,-218.5 837.25,-218.5 843.25,-218.5 849.25,-224.5 849.25,-230.5 849.25,-230.5 849.25,-285.5 849.25,-285.5 849.25,-291.5 843.25,-297.5 837.25,-297.5\"/>\n",
       "<text text-anchor=\"start\" x=\"663\" y=\"-283.3\" font-family=\"Helvetica,sans-Serif\" font-size=\"14.00\">sepal length (cm) ≤ 5.95</text>\n",
       "<text text-anchor=\"start\" x=\"708\" y=\"-269.3\" font-family=\"Helvetica,sans-Serif\" font-size=\"14.00\">gini = 0.444</text>\n",
       "<text text-anchor=\"start\" x=\"706.5\" y=\"-255.3\" font-family=\"Helvetica,sans-Serif\" font-size=\"14.00\">samples = 3</text>\n",
       "<text text-anchor=\"start\" x=\"694\" y=\"-241.3\" font-family=\"Helvetica,sans-Serif\" font-size=\"14.00\">value = [0, 1, 2]</text>\n",
       "<text text-anchor=\"start\" x=\"693.5\" y=\"-227.3\" font-family=\"Helvetica,sans-Serif\" font-size=\"14.00\">class = virginica</text>\n",
       "</g>\n",
       "<!-- 12&#45;&gt;13 -->\n",
       "<g id=\"edge13\" class=\"edge\"><title>12&#45;&gt;13</title>\n",
       "<path fill=\"none\" stroke=\"black\" d=\"M752,-334.405C752,-325.862 752,-316.702 752,-307.813\"/>\n",
       "<polygon fill=\"black\" stroke=\"black\" points=\"755.5,-307.555 752,-297.555 748.5,-307.555 755.5,-307.555\"/>\n",
       "</g>\n",
       "<!-- 16 -->\n",
       "<g id=\"node17\" class=\"node\"><title>16</title>\n",
       "<path fill=\"#8139e5\" stroke=\"black\" d=\"M998,-290.5C998,-290.5 880,-290.5 880,-290.5 874,-290.5 868,-284.5 868,-278.5 868,-278.5 868,-237.5 868,-237.5 868,-231.5 874,-225.5 880,-225.5 880,-225.5 998,-225.5 998,-225.5 1004,-225.5 1010,-231.5 1010,-237.5 1010,-237.5 1010,-278.5 1010,-278.5 1010,-284.5 1004,-290.5 998,-290.5\"/>\n",
       "<text text-anchor=\"start\" x=\"904\" y=\"-276.3\" font-family=\"Helvetica,sans-Serif\" font-size=\"14.00\">gini = 0.0</text>\n",
       "<text text-anchor=\"start\" x=\"889\" y=\"-262.3\" font-family=\"Helvetica,sans-Serif\" font-size=\"14.00\">samples = 43</text>\n",
       "<text text-anchor=\"start\" x=\"876.5\" y=\"-248.3\" font-family=\"Helvetica,sans-Serif\" font-size=\"14.00\">value = [0, 0, 43]</text>\n",
       "<text text-anchor=\"start\" x=\"880.5\" y=\"-234.3\" font-family=\"Helvetica,sans-Serif\" font-size=\"14.00\">class = virginica</text>\n",
       "</g>\n",
       "<!-- 12&#45;&gt;16 -->\n",
       "<g id=\"edge16\" class=\"edge\"><title>12&#45;&gt;16</title>\n",
       "<path fill=\"none\" stroke=\"black\" d=\"M815.31,-334.405C835.708,-321.97 858.253,-308.225 878.448,-295.914\"/>\n",
       "<polygon fill=\"black\" stroke=\"black\" points=\"880.527,-298.746 887.244,-290.552 876.883,-292.769 880.527,-298.746\"/>\n",
       "</g>\n",
       "<!-- 14 -->\n",
       "<g id=\"node15\" class=\"node\"><title>14</title>\n",
       "<path fill=\"#39e581\" stroke=\"black\" d=\"M812,-174.5C812,-174.5 692,-174.5 692,-174.5 686,-174.5 680,-168.5 680,-162.5 680,-162.5 680,-121.5 680,-121.5 680,-115.5 686,-109.5 692,-109.5 692,-109.5 812,-109.5 812,-109.5 818,-109.5 824,-115.5 824,-121.5 824,-121.5 824,-162.5 824,-162.5 824,-168.5 818,-174.5 812,-174.5\"/>\n",
       "<text text-anchor=\"start\" x=\"717\" y=\"-160.3\" font-family=\"Helvetica,sans-Serif\" font-size=\"14.00\">gini = 0.0</text>\n",
       "<text text-anchor=\"start\" x=\"706.5\" y=\"-146.3\" font-family=\"Helvetica,sans-Serif\" font-size=\"14.00\">samples = 1</text>\n",
       "<text text-anchor=\"start\" x=\"694\" y=\"-132.3\" font-family=\"Helvetica,sans-Serif\" font-size=\"14.00\">value = [0, 1, 0]</text>\n",
       "<text text-anchor=\"start\" x=\"688.5\" y=\"-118.3\" font-family=\"Helvetica,sans-Serif\" font-size=\"14.00\">class = versicolor</text>\n",
       "</g>\n",
       "<!-- 13&#45;&gt;14 -->\n",
       "<g id=\"edge14\" class=\"edge\"><title>13&#45;&gt;14</title>\n",
       "<path fill=\"none\" stroke=\"black\" d=\"M752,-218.405C752,-207.636 752,-195.885 752,-184.933\"/>\n",
       "<polygon fill=\"black\" stroke=\"black\" points=\"755.5,-184.736 752,-174.736 748.5,-184.736 755.5,-184.736\"/>\n",
       "</g>\n",
       "<!-- 15 -->\n",
       "<g id=\"node16\" class=\"node\"><title>15</title>\n",
       "<path fill=\"#8139e5\" stroke=\"black\" d=\"M964,-174.5C964,-174.5 854,-174.5 854,-174.5 848,-174.5 842,-168.5 842,-162.5 842,-162.5 842,-121.5 842,-121.5 842,-115.5 848,-109.5 854,-109.5 854,-109.5 964,-109.5 964,-109.5 970,-109.5 976,-115.5 976,-121.5 976,-121.5 976,-162.5 976,-162.5 976,-168.5 970,-174.5 964,-174.5\"/>\n",
       "<text text-anchor=\"start\" x=\"874\" y=\"-160.3\" font-family=\"Helvetica,sans-Serif\" font-size=\"14.00\">gini = 0.0</text>\n",
       "<text text-anchor=\"start\" x=\"863.5\" y=\"-146.3\" font-family=\"Helvetica,sans-Serif\" font-size=\"14.00\">samples = 2</text>\n",
       "<text text-anchor=\"start\" x=\"851\" y=\"-132.3\" font-family=\"Helvetica,sans-Serif\" font-size=\"14.00\">value = [0, 0, 2]</text>\n",
       "<text text-anchor=\"start\" x=\"850.5\" y=\"-118.3\" font-family=\"Helvetica,sans-Serif\" font-size=\"14.00\">class = virginica</text>\n",
       "</g>\n",
       "<!-- 13&#45;&gt;15 -->\n",
       "<g id=\"edge15\" class=\"edge\"><title>13&#45;&gt;15</title>\n",
       "<path fill=\"none\" stroke=\"black\" d=\"M805.153,-218.405C821.895,-206.248 840.359,-192.841 857.018,-180.745\"/>\n",
       "<polygon fill=\"black\" stroke=\"black\" points=\"859.511,-183.26 865.547,-174.552 855.399,-177.595 859.511,-183.26\"/>\n",
       "</g>\n",
       "</g>\n",
       "</svg>\n"
      ],
      "text/plain": [
       "<graphviz.sources.Source at 0x7fec2be14b90>"
      ]
     },
     "execution_count": 36,
     "metadata": {},
     "output_type": "execute_result"
    }
   ],
   "source": [
    "dot_data = tree.export_graphviz(clf, out_file=None, \n",
    "...                      feature_names=iris.feature_names,  \n",
    "...                      class_names=iris.target_names,  \n",
    "...                      filled=True, rounded=True,  \n",
    "...                      special_characters=True)  \n",
    "graph = graphviz.Source(dot_data)  \n",
    "graph "
   ]
  },
  {
   "cell_type": "code",
   "execution_count": null,
   "metadata": {},
   "outputs": [],
   "source": []
  },
  {
   "cell_type": "code",
   "execution_count": 37,
   "metadata": {},
   "outputs": [
    {
     "name": "stdout",
     "output_type": "stream",
     "text": [
      "|--- petal width (cm) <= 0.80\n",
      "|   |--- class: 0\n",
      "|--- petal width (cm) >  0.80\n",
      "|   |--- petal width (cm) <= 1.75\n",
      "|   |   |--- class: 1\n",
      "|   |--- petal width (cm) >  1.75\n",
      "|   |   |--- class: 2\n",
      "\n"
     ]
    }
   ],
   "source": [
    "from sklearn.datasets import load_iris\n",
    "from sklearn.tree import DecisionTreeClassifier\n",
    "from sklearn.tree import export_text\n",
    "iris = load_iris()\n",
    "decision_tree = DecisionTreeClassifier(random_state=0, max_depth=2)\n",
    "decision_tree = decision_tree.fit(iris.data, iris.target)\n",
    "r = export_text(decision_tree, feature_names=iris['feature_names'])\n",
    "print(r)"
   ]
  },
  {
   "cell_type": "code",
   "execution_count": 41,
   "metadata": {},
   "outputs": [
    {
     "data": {
      "image/svg+xml": [
       "<?xml version=\"1.0\" encoding=\"UTF-8\" standalone=\"no\"?>\n",
       "<!DOCTYPE svg PUBLIC \"-//W3C//DTD SVG 1.1//EN\"\n",
       " \"http://www.w3.org/Graphics/SVG/1.1/DTD/svg11.dtd\">\n",
       "<!-- Generated by graphviz version 2.30.1 (20200304.1809)\n",
       " -->\n",
       "<!-- Title: Tree Pages: 1 -->\n",
       "<svg width=\"412pt\" height=\"306pt\"\n",
       " viewBox=\"0.00 0.00 412.00 306.00\" xmlns=\"http://www.w3.org/2000/svg\" xmlns:xlink=\"http://www.w3.org/1999/xlink\">\n",
       "<g id=\"graph0\" class=\"graph\" transform=\"scale(1 1) rotate(0) translate(4 302)\">\n",
       "<title>Tree</title>\n",
       "<polygon fill=\"white\" stroke=\"white\" points=\"-4,5 -4,-302 409,-302 409,5 -4,5\"/>\n",
       "<!-- 0 -->\n",
       "<g id=\"node1\" class=\"node\"><title>0</title>\n",
       "<path fill=\"#ffffff\" stroke=\"black\" d=\"M238.25,-297.5C238.25,-297.5 85.75,-297.5 85.75,-297.5 79.75,-297.5 73.75,-291.5 73.75,-285.5 73.75,-285.5 73.75,-230.5 73.75,-230.5 73.75,-224.5 79.75,-218.5 85.75,-218.5 85.75,-218.5 238.25,-218.5 238.25,-218.5 244.25,-218.5 250.25,-224.5 250.25,-230.5 250.25,-230.5 250.25,-285.5 250.25,-285.5 250.25,-291.5 244.25,-297.5 238.25,-297.5\"/>\n",
       "<text text-anchor=\"start\" x=\"82\" y=\"-283.3\" font-family=\"Helvetica,sans-Serif\" font-size=\"14.00\">petal width (cm) ≤ 0.8</text>\n",
       "<text text-anchor=\"start\" x=\"118\" y=\"-269.3\" font-family=\"Helvetica,sans-Serif\" font-size=\"14.00\">gini = 0.667</text>\n",
       "<text text-anchor=\"start\" x=\"107.5\" y=\"-255.3\" font-family=\"Helvetica,sans-Serif\" font-size=\"14.00\">samples = 150</text>\n",
       "<text text-anchor=\"start\" x=\"90.5\" y=\"-241.3\" font-family=\"Helvetica,sans-Serif\" font-size=\"14.00\">value = [50, 50, 50]</text>\n",
       "<text text-anchor=\"start\" x=\"110\" y=\"-227.3\" font-family=\"Helvetica,sans-Serif\" font-size=\"14.00\">class = setosa</text>\n",
       "</g>\n",
       "<!-- 1 -->\n",
       "<g id=\"node2\" class=\"node\"><title>1</title>\n",
       "<path fill=\"#e58139\" stroke=\"black\" d=\"M130,-174.5C130,-174.5 12,-174.5 12,-174.5 6,-174.5 0,-168.5 0,-162.5 0,-162.5 0,-121.5 0,-121.5 0,-115.5 6,-109.5 12,-109.5 12,-109.5 130,-109.5 130,-109.5 136,-109.5 142,-115.5 142,-121.5 142,-121.5 142,-162.5 142,-162.5 142,-168.5 136,-174.5 130,-174.5\"/>\n",
       "<text text-anchor=\"start\" x=\"36\" y=\"-160.3\" font-family=\"Helvetica,sans-Serif\" font-size=\"14.00\">gini = 0.0</text>\n",
       "<text text-anchor=\"start\" x=\"21\" y=\"-146.3\" font-family=\"Helvetica,sans-Serif\" font-size=\"14.00\">samples = 50</text>\n",
       "<text text-anchor=\"start\" x=\"8.5\" y=\"-132.3\" font-family=\"Helvetica,sans-Serif\" font-size=\"14.00\">value = [50, 0, 0]</text>\n",
       "<text text-anchor=\"start\" x=\"19\" y=\"-118.3\" font-family=\"Helvetica,sans-Serif\" font-size=\"14.00\">class = setosa</text>\n",
       "</g>\n",
       "<!-- 0&#45;&gt;1 -->\n",
       "<g id=\"edge1\" class=\"edge\"><title>0&#45;&gt;1</title>\n",
       "<path fill=\"none\" stroke=\"black\" d=\"M131.192,-218.405C121.975,-206.859 111.857,-194.184 102.591,-182.575\"/>\n",
       "<polygon fill=\"black\" stroke=\"black\" points=\"105.307,-180.368 96.3335,-174.736 99.8367,-184.735 105.307,-180.368\"/>\n",
       "<text text-anchor=\"middle\" x=\"93.5461\" y=\"-195.881\" font-family=\"Helvetica,sans-Serif\" font-size=\"14.00\">True</text>\n",
       "</g>\n",
       "<!-- 2 -->\n",
       "<g id=\"node3\" class=\"node\"><title>2</title>\n",
       "<path fill=\"#ffffff\" stroke=\"black\" d=\"M334,-181.5C334,-181.5 172,-181.5 172,-181.5 166,-181.5 160,-175.5 160,-169.5 160,-169.5 160,-114.5 160,-114.5 160,-108.5 166,-102.5 172,-102.5 172,-102.5 334,-102.5 334,-102.5 340,-102.5 346,-108.5 346,-114.5 346,-114.5 346,-169.5 346,-169.5 346,-175.5 340,-181.5 334,-181.5\"/>\n",
       "<text text-anchor=\"start\" x=\"168.5\" y=\"-167.3\" font-family=\"Helvetica,sans-Serif\" font-size=\"14.00\">petal width (cm) ≤ 1.75</text>\n",
       "<text text-anchor=\"start\" x=\"218\" y=\"-153.3\" font-family=\"Helvetica,sans-Serif\" font-size=\"14.00\">gini = 0.5</text>\n",
       "<text text-anchor=\"start\" x=\"198.5\" y=\"-139.3\" font-family=\"Helvetica,sans-Serif\" font-size=\"14.00\">samples = 100</text>\n",
       "<text text-anchor=\"start\" x=\"186\" y=\"-125.3\" font-family=\"Helvetica,sans-Serif\" font-size=\"14.00\">value = [0, 50, 50]</text>\n",
       "<text text-anchor=\"start\" x=\"189.5\" y=\"-111.3\" font-family=\"Helvetica,sans-Serif\" font-size=\"14.00\">class = versicolor</text>\n",
       "</g>\n",
       "<!-- 0&#45;&gt;2 -->\n",
       "<g id=\"edge2\" class=\"edge\"><title>0&#45;&gt;2</title>\n",
       "<path fill=\"none\" stroke=\"black\" d=\"M192.808,-218.405C200.221,-209.119 208.215,-199.104 215.881,-189.5\"/>\n",
       "<polygon fill=\"black\" stroke=\"black\" points=\"218.72,-191.554 222.223,-181.555 213.249,-187.187 218.72,-191.554\"/>\n",
       "<text text-anchor=\"middle\" x=\"225.011\" y=\"-202.7\" font-family=\"Helvetica,sans-Serif\" font-size=\"14.00\">False</text>\n",
       "</g>\n",
       "<!-- 3 -->\n",
       "<g id=\"node4\" class=\"node\"><title>3</title>\n",
       "<path fill=\"#4de88e\" stroke=\"black\" d=\"M232,-65.5C232,-65.5 112,-65.5 112,-65.5 106,-65.5 100,-59.5 100,-53.5 100,-53.5 100,-12.5 100,-12.5 100,-6.5 106,-0.5 112,-0.5 112,-0.5 232,-0.5 232,-0.5 238,-0.5 244,-6.5 244,-12.5 244,-12.5 244,-53.5 244,-53.5 244,-59.5 238,-65.5 232,-65.5\"/>\n",
       "<text text-anchor=\"start\" x=\"128\" y=\"-51.3\" font-family=\"Helvetica,sans-Serif\" font-size=\"14.00\">gini = 0.168</text>\n",
       "<text text-anchor=\"start\" x=\"122\" y=\"-37.3\" font-family=\"Helvetica,sans-Serif\" font-size=\"14.00\">samples = 54</text>\n",
       "<text text-anchor=\"start\" x=\"109.5\" y=\"-23.3\" font-family=\"Helvetica,sans-Serif\" font-size=\"14.00\">value = [0, 49, 5]</text>\n",
       "<text text-anchor=\"start\" x=\"108.5\" y=\"-9.3\" font-family=\"Helvetica,sans-Serif\" font-size=\"14.00\">class = versicolor</text>\n",
       "</g>\n",
       "<!-- 2&#45;&gt;3 -->\n",
       "<g id=\"edge3\" class=\"edge\"><title>2&#45;&gt;3</title>\n",
       "<path fill=\"none\" stroke=\"black\" d=\"M223.757,-102.371C216.677,-93.0182 209.099,-83.0073 201.986,-73.6105\"/>\n",
       "<polygon fill=\"black\" stroke=\"black\" points=\"204.705,-71.4035 195.878,-65.5428 199.123,-75.6285 204.705,-71.4035\"/>\n",
       "</g>\n",
       "<!-- 4 -->\n",
       "<g id=\"node5\" class=\"node\"><title>4</title>\n",
       "<path fill=\"#843de6\" stroke=\"black\" d=\"M392,-65.5C392,-65.5 274,-65.5 274,-65.5 268,-65.5 262,-59.5 262,-53.5 262,-53.5 262,-12.5 262,-12.5 262,-6.5 268,-0.5 274,-0.5 274,-0.5 392,-0.5 392,-0.5 398,-0.5 404,-6.5 404,-12.5 404,-12.5 404,-53.5 404,-53.5 404,-59.5 398,-65.5 392,-65.5\"/>\n",
       "<text text-anchor=\"start\" x=\"289\" y=\"-51.3\" font-family=\"Helvetica,sans-Serif\" font-size=\"14.00\">gini = 0.043</text>\n",
       "<text text-anchor=\"start\" x=\"283\" y=\"-37.3\" font-family=\"Helvetica,sans-Serif\" font-size=\"14.00\">samples = 46</text>\n",
       "<text text-anchor=\"start\" x=\"270.5\" y=\"-23.3\" font-family=\"Helvetica,sans-Serif\" font-size=\"14.00\">value = [0, 1, 45]</text>\n",
       "<text text-anchor=\"start\" x=\"274.5\" y=\"-9.3\" font-family=\"Helvetica,sans-Serif\" font-size=\"14.00\">class = virginica</text>\n",
       "</g>\n",
       "<!-- 2&#45;&gt;4 -->\n",
       "<g id=\"edge4\" class=\"edge\"><title>2&#45;&gt;4</title>\n",
       "<path fill=\"none\" stroke=\"black\" d=\"M281.882,-102.371C288.874,-93.0182 296.359,-83.0073 303.385,-73.6105\"/>\n",
       "<polygon fill=\"black\" stroke=\"black\" points=\"306.232,-75.6477 309.417,-65.5428 300.625,-71.456 306.232,-75.6477\"/>\n",
       "</g>\n",
       "</g>\n",
       "</svg>\n"
      ],
      "text/plain": [
       "<graphviz.sources.Source at 0x7fece20661d0>"
      ]
     },
     "execution_count": 41,
     "metadata": {},
     "output_type": "execute_result"
    }
   ],
   "source": [
    "dot_data = tree.export_graphviz(decision_tree, out_file=None, \n",
    "...                      feature_names=iris.feature_names,  \n",
    "...                      class_names=iris.target_names,  \n",
    "...                      filled=True, rounded=True,  \n",
    "...                      special_characters=True)  \n",
    "graph = graphviz.Source(dot_data)  \n",
    "graph "
   ]
  },
  {
   "cell_type": "code",
   "execution_count": null,
   "metadata": {},
   "outputs": [],
   "source": []
  },
  {
   "cell_type": "code",
   "execution_count": 39,
   "metadata": {},
   "outputs": [
    {
     "data": {
      "text/plain": [
       "array([[0.        , 0.90740741, 0.09259259]])"
      ]
     },
     "execution_count": 39,
     "metadata": {},
     "output_type": "execute_result"
    }
   ],
   "source": [
    "clf.predict_proba([[5, 2.9, 1, 0.9]])\n",
    "decision_tree.predict_proba([[5, 2.9, 1, 0.9]])"
   ]
  }
 ],
 "metadata": {
  "kernelspec": {
   "display_name": "Python (sklearn_env)",
   "language": "python",
   "name": "sklearn_env"
  },
  "language_info": {
   "codemirror_mode": {
    "name": "ipython",
    "version": 3
   },
   "file_extension": ".py",
   "mimetype": "text/x-python",
   "name": "python",
   "nbconvert_exporter": "python",
   "pygments_lexer": "ipython3",
   "version": "3.7.11"
  }
 },
 "nbformat": 4,
 "nbformat_minor": 4
}
